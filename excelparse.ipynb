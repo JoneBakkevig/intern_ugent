{
 "cells": [
  {
   "cell_type": "code",
   "execution_count": 1,
   "metadata": {
    "collapsed": true
   },
   "outputs": [],
   "source": [
    "# load packages\n",
    "import numpy as np\n",
    "import pandas as pd\n",
    "import matplotlib.pyplot as plt\n",
    "import seaborn as sns"
   ]
  },
  {
   "cell_type": "code",
   "execution_count": 2,
   "metadata": {
    "collapsed": true
   },
   "outputs": [],
   "source": [
    "# seaborn styling\n",
    "sns.set_style(\"white\")"
   ]
  },
  {
   "cell_type": "markdown",
   "metadata": {},
   "source": [
    "# Import functions"
   ]
  },
  {
   "cell_type": "code",
   "execution_count": 3,
   "metadata": {
    "collapsed": true
   },
   "outputs": [],
   "source": [
    "%matplotlib inline"
   ]
  },
  {
   "cell_type": "code",
   "execution_count": 4,
   "metadata": {
    "collapsed": true
   },
   "outputs": [],
   "source": [
    "%run excelparse.py"
   ]
  },
  {
   "cell_type": "markdown",
   "metadata": {},
   "source": [
    "We load the file with the relevant data."
   ]
  },
  {
   "cell_type": "code",
   "execution_count": 5,
   "metadata": {
    "collapsed": true
   },
   "outputs": [],
   "source": [
    "filename = 'Data_nieuwveer.xlsx'"
   ]
  },
  {
   "cell_type": "markdown",
   "metadata": {},
   "source": [
    "# 1: Climate parameter visualization\n"
   ]
  },
  {
   "cell_type": "markdown",
   "metadata": {},
   "source": [
    "## Parsing setup"
   ]
  },
  {
   "cell_type": "markdown",
   "metadata": {},
   "source": [
    "We set the parameters for the parsing of our excel file. The parameters are set depending on what we wish to plot. Returned will be a dataframe with the relevant columns for plotting."
   ]
  },
  {
   "cell_type": "code",
   "execution_count": 6,
   "metadata": {},
   "outputs": [
    {
     "data": {
      "text/html": [
       "<div>\n",
       "<style>\n",
       "    .dataframe thead tr:only-child th {\n",
       "        text-align: right;\n",
       "    }\n",
       "\n",
       "    .dataframe thead th {\n",
       "        text-align: left;\n",
       "    }\n",
       "\n",
       "    .dataframe tbody tr th {\n",
       "        vertical-align: top;\n",
       "    }\n",
       "</style>\n",
       "<table border=\"1\" class=\"dataframe\">\n",
       "  <thead>\n",
       "    <tr style=\"text-align: right;\">\n",
       "      <th></th>\n",
       "      <th>Date</th>\n",
       "      <th>Precipitation</th>\n",
       "      <th>Temperature</th>\n",
       "    </tr>\n",
       "  </thead>\n",
       "  <tbody>\n",
       "    <tr>\n",
       "      <th>0</th>\n",
       "      <td>2013-10-01</td>\n",
       "      <td>0.00</td>\n",
       "      <td>18.507</td>\n",
       "    </tr>\n",
       "    <tr>\n",
       "      <th>1</th>\n",
       "      <td>2013-10-02</td>\n",
       "      <td>0.00</td>\n",
       "      <td>18.468</td>\n",
       "    </tr>\n",
       "    <tr>\n",
       "      <th>2</th>\n",
       "      <td>2013-10-03</td>\n",
       "      <td>0.00</td>\n",
       "      <td>18.244</td>\n",
       "    </tr>\n",
       "    <tr>\n",
       "      <th>3</th>\n",
       "      <td>2013-10-04</td>\n",
       "      <td>6.78</td>\n",
       "      <td>18.283</td>\n",
       "    </tr>\n",
       "    <tr>\n",
       "      <th>4</th>\n",
       "      <td>2013-10-05</td>\n",
       "      <td>0.00</td>\n",
       "      <td>18.163</td>\n",
       "    </tr>\n",
       "  </tbody>\n",
       "</table>\n",
       "</div>"
      ],
      "text/plain": [
       "        Date  Precipitation  Temperature\n",
       "0 2013-10-01           0.00       18.507\n",
       "1 2013-10-02           0.00       18.468\n",
       "2 2013-10-03           0.00       18.244\n",
       "3 2013-10-04           6.78       18.283\n",
       "4 2013-10-05           0.00       18.163"
      ]
     },
     "execution_count": 6,
     "metadata": {},
     "output_type": "execute_result"
    }
   ],
   "source": [
    "# Parameters\n",
    "footer = 20 # Distance in cells from end of file to shortest relevant column\n",
    "columns = [0, 3, 66] # 0=Date, 3=Precipitation, 66=Temperature \n",
    "sheetnumber = 1\n",
    "\n",
    "# Dataframe\n",
    "df = fileToDframe(filename, footer, columns, sheetnumber)\n",
    "df.head() # View the 5 topmost rows of the parsed columns"
   ]
  },
  {
   "cell_type": "markdown",
   "metadata": {},
   "source": [
    "## Plotting setup\n"
   ]
  },
  {
   "cell_type": "markdown",
   "metadata": {},
   "source": [
    "We set the plotting parameters, establishing which column to put on which axes when plotting. "
   ]
  },
  {
   "cell_type": "code",
   "execution_count": 7,
   "metadata": {},
   "outputs": [
    {
     "data": {
      "image/png": "[encoded data removed]",
      "text/plain": [
       "<matplotlib.figure.Figure at 0xbf699e8>"
      ]
     },
     "metadata": {},
     "output_type": "display_data"
    },
    {
     "data": {
      "text/plain": [
       "(<matplotlib.axes._subplots.AxesSubplot at 0xbf69978>,\n",
       " <matplotlib.figure.Figure at 0xbf699e8>)"
      ]
     },
     "execution_count": 7,
     "metadata": {},
     "output_type": "execute_result"
    }
   ],
   "source": [
    "# Plotting parameters\n",
    "y_list = ['Precipitation']\n",
    "y1label = 'mm' #Optional additional labelling for 1. y-axis\n",
    "sec_y = 'Temperature' #Set which of the parsed columns, if any, to plot on secondary y-axis. Default is None\n",
    "y2label = 'C' #Optional additional labelling for 2. y-axis\n",
    "title = 'Climate Data'\n",
    "graph_type = '.'\n",
    "size = (16,8) #Figure size in inches\n",
    "style = 'plain' #Optional parameter to set notation to scientific. Default is 'plain'\n",
    "\n",
    "\n",
    "# Plotted figure with returned axes\n",
    "plotDframe(df, y_list, graph_type, title, size, y1label, style, sec_y, y2label)"
   ]
  },
  {
   "cell_type": "markdown",
   "metadata": {},
   "source": [
    "# 2: Flow rate visualization"
   ]
  },
  {
   "cell_type": "markdown",
   "metadata": {},
   "source": [
    "## Parsing setup\n"
   ]
  },
  {
   "cell_type": "markdown",
   "metadata": {},
   "source": [
    "We set the relevant parsing parameters for the flow rates. Only need to parse once if all relevant columns are included."
   ]
  },
  {
   "cell_type": "code",
   "execution_count": 8,
   "metadata": {},
   "outputs": [
    {
     "name": "stdout",
     "output_type": "stream",
     "text": [
      "          Date  Qinf_total    Qinf  Q_effluent  Fe_doseA\n",
      "0   2013-10-01      229042   51742  230691.600     7.000\n",
      "1   2013-10-02      226633   50233  228241.750     8.000\n",
      "2   2013-10-03      228000   49400  229808.865     3.000\n",
      "3   2013-10-04      236350   83800  238162.340    13.000\n",
      "4   2013-10-05      232750   76500  234888.415     9.000\n",
      "5   2013-10-06      226733   49833  228382.840     8.000\n",
      "6   2013-10-07      225834   48134  227321.000     7.000\n",
      "7   2013-10-08      227933   49433  230057.200     7.000\n",
      "8   2013-10-09      220000   47100  221621.800     8.000\n",
      "9   2013-10-10      237500   85500  238882.825    13.000\n",
      "10  2013-10-11      233075   77775  234651.925    11.000\n",
      "11  2013-10-12      238225  144225  239916.400    17.000\n",
      "12  2013-10-13      237600  127000  239127.250    12.000\n",
      "13  2013-10-14      282900  281100  283972.900    17.000\n",
      "14  2013-10-15      239650  189400  241431.440    15.000\n",
      "15  2013-10-16      213517  122167  215499.265     9.000\n",
      "16  2013-10-17      224700   72100  226969.050    10.000\n",
      "17  2013-10-18      229208   61708  231399.950     9.000\n",
      "18  2013-10-19      232000   57800  234411.700     7.500\n",
      "19  2013-10-20      235525  101625  237432.950    12.500\n",
      "20  2013-10-21      244250  154800  245943.850    14.000\n",
      "21  2013-10-22      232800   79650  234533.650    11.000\n",
      "22  2013-10-23      242550  119850  244805.750    12.178\n",
      "23  2013-10-24      234500   65800  235576.700     8.822\n",
      "24  2013-10-25      230200   57000  232047.900     8.000\n",
      "25  2013-10-26      230400   56700  232162.850     8.000\n",
      "26  2013-10-27      238200   58000  240080.082     9.000\n",
      "27  2013-10-28      241700  120500  243521.818    13.000\n",
      "28  2013-10-29      236000  109200  238342.150    15.000\n",
      "29  2013-10-30      237733   90233  239624.000    12.000\n",
      "..         ...         ...     ...         ...       ...\n",
      "182 2014-04-01      120774   48774  123696.200     8.000\n",
      "183 2014-04-02      122600   50600  125438.700     7.000\n",
      "184 2014-04-03      122364   50316  125124.500     8.000\n",
      "185 2014-04-04      120734   48734  122459.050     7.000\n",
      "186 2014-04-05      119300   47300  121416.100     7.000\n",
      "187 2014-04-06      120400   48400  123052.450     7.000\n",
      "188 2014-04-07      134820   67440  137002.000     8.400\n",
      "189 2014-04-08      134820   67440  136857.550     8.400\n",
      "190 2014-04-09      134820   67440  137177.650     8.400\n",
      "191 2014-04-10      134820   67440  137464.900     8.400\n",
      "192 2014-04-11      134820   67440  137336.000     8.400\n",
      "193 2014-04-12      119800   47800  121995.078     6.414\n",
      "194 2014-04-13      119700   47700  121859.872     6.000\n",
      "195 2014-04-14      119186   47134  121332.550     6.000\n",
      "196 2014-04-15      121990   49990  124689.000     6.930\n",
      "197 2014-04-16      119752   47752  122523.550     6.070\n",
      "198 2014-04-17      122924   50924  125537.914     7.000\n",
      "199 2014-04-18      121366   49366  124041.236     6.000\n",
      "200 2014-04-19      120582   48534  123481.800     7.000\n",
      "201 2014-04-20      118500   46500  121053.750     6.000\n",
      "202 2014-04-21      114600   42600  117116.500     6.000\n",
      "203 2014-04-22      118324   46324  120659.000     7.000\n",
      "204 2014-04-23      120652   48652  123018.400     6.000\n",
      "205 2014-04-24      120574   48574  123082.300     7.000\n",
      "206 2014-04-25      120322   48274  122598.950     6.000\n",
      "207 2014-04-26      117576   45576  119927.450     3.000\n",
      "208 2014-04-27      118400   46400  120594.400     4.000\n",
      "209 2014-04-28      119350   47350  121654.100     3.000\n",
      "210 2014-04-29      111102   47350  113223.750     4.000\n",
      "211 2014-04-30      123800   64300  125850.550     7.000\n",
      "\n",
      "[212 rows x 5 columns]\n"
     ]
    }
   ],
   "source": [
    "# Parameters\n",
    "footer = 92\n",
    "columns = [0,4,6,42,79] # 4=Qinf_total, 6=Qinf, 42=Q_effluent, 79=Fe_doseA\n",
    "sheetnumber = 1\n",
    "\n",
    "# Dataframe\n",
    "df = fileToDframe(filename, footer, columns, sheetnumber)\n",
    "print df"
   ]
  },
  {
   "cell_type": "markdown",
   "metadata": {},
   "source": [
    "## Plotting setup\n"
   ]
  },
  {
   "cell_type": "markdown",
   "metadata": {},
   "source": [
    "Initially, we plot all the parsed columns to see how the graph looks."
   ]
  },
  {
   "cell_type": "code",
   "execution_count": 9,
   "metadata": {},
   "outputs": [
    {
     "data": {
      "image/png": "[encoded data removed]",
      "text/plain": [
       "<matplotlib.figure.Figure at 0xbf22f98>"
      ]
     },
     "metadata": {},
     "output_type": "display_data"
    },
    {
     "data": {
      "text/plain": [
       "(<matplotlib.axes._subplots.AxesSubplot at 0xc84ca58>,\n",
       " <matplotlib.figure.Figure at 0xbf22f98>)"
      ]
     },
     "execution_count": 9,
     "metadata": {},
     "output_type": "execute_result"
    }
   ],
   "source": [
    "# Plotting parameters\n",
    "y_list = ['Qinf_total','Qinf','Q_effluent']\n",
    "y1label = 'm3'\n",
    "sec_y = 'Fe_doseA'\n",
    "y2label = 'm3'\n",
    "title = 'Flow Rate Data'\n",
    "graph_type = '.'\n",
    "size = (16,8)\n",
    "style = 'sci'\n",
    "\n",
    "# Plot figure\n",
    "plotDframe(df, y_list, graph_type, title, size, y1label, style, sec_y, y2label)"
   ]
  },
  {
   "cell_type": "markdown",
   "metadata": {
    "collapsed": true
   },
   "source": [
    "This graph looks cluttered. Some correlation can be noticed, however. The plots needs to be separated for more clarity."
   ]
  },
  {
   "cell_type": "markdown",
   "metadata": {},
   "source": [
    "## 2.1 Plotting setup for inflow and iron-dosing"
   ]
  },
  {
   "cell_type": "code",
   "execution_count": 10,
   "metadata": {
    "scrolled": false
   },
   "outputs": [
    {
     "data": {
      "image/png": "[encoded data removed]",
      "text/plain": [
       "<matplotlib.figure.Figure at 0xc84c278>"
      ]
     },
     "metadata": {},
     "output_type": "display_data"
    },
    {
     "data": {
      "text/plain": [
       "(<matplotlib.axes._subplots.AxesSubplot at 0xc8dccf8>,\n",
       " <matplotlib.figure.Figure at 0xc84c278>)"
      ]
     },
     "execution_count": 10,
     "metadata": {},
     "output_type": "execute_result"
    }
   ],
   "source": [
    "# Plotting parameters\n",
    "y_list = ['Qinf']\n",
    "y1label = 'm3'\n",
    "sec_y = 'Fe_doseA'\n",
    "y2label = 'm3'\n",
    "title = 'Inflow'\n",
    "graph_type = '.'\n",
    "size = (16, 8)\n",
    "style = 'sci'\n",
    "\n",
    "# Plot figure\n",
    "plotDframe(df, y_list, graph_type, title, size, y1label, style, sec_y, y2label)"
   ]
  },
  {
   "cell_type": "markdown",
   "metadata": {},
   "source": [
    "## 2.2 Plotting setup for total inflow"
   ]
  },
  {
   "cell_type": "code",
   "execution_count": 11,
   "metadata": {},
   "outputs": [
    {
     "data": {
      "image/png": "[encoded data removed]",
      "text/plain": [
       "<matplotlib.figure.Figure at 0xc6ebe48>"
      ]
     },
     "metadata": {},
     "output_type": "display_data"
    },
    {
     "data": {
      "text/plain": [
       "(<matplotlib.axes._subplots.AxesSubplot at 0xc8e0da0>,\n",
       " <matplotlib.figure.Figure at 0xc6ebe48>)"
      ]
     },
     "execution_count": 11,
     "metadata": {},
     "output_type": "execute_result"
    }
   ],
   "source": [
    "# Plotting parameters\n",
    "y_list = ['Qinf_total']\n",
    "y1label = 'm3'\n",
    "title = 'Inflow'\n",
    "graph_type = '.'\n",
    "size = (16, 8)\n",
    "style = 'sci'\n",
    "\n",
    "# Plot figure\n",
    "plotDframe(df, y_list, graph_type, title, size, y1label, style)"
   ]
  },
  {
   "cell_type": "markdown",
   "metadata": {},
   "source": [
    "## 2.3 Plotting setup for effluent"
   ]
  },
  {
   "cell_type": "code",
   "execution_count": 12,
   "metadata": {},
   "outputs": [
    {
     "data": {
      "image/png": "[encoded data removed]",
      "text/plain": [
       "<matplotlib.figure.Figure at 0xc859748>"
      ]
     },
     "metadata": {},
     "output_type": "display_data"
    },
    {
     "data": {
      "text/plain": [
       "(<matplotlib.axes._subplots.AxesSubplot at 0xd4e1160>,\n",
       " <matplotlib.figure.Figure at 0xc859748>)"
      ]
     },
     "execution_count": 12,
     "metadata": {},
     "output_type": "execute_result"
    }
   ],
   "source": [
    "# Plotting parameters\n",
    "y_list = ['Q_effluent']\n",
    "y1label = 'm3'\n",
    "title = 'Effluent'\n",
    "graph_type = '.'\n",
    "size = (16,8)\n",
    "style = 'sci'\n",
    "\n",
    "# Plot figure\n",
    "plotDframe(df, y_list, graph_type, title, size, y1label, style)"
   ]
  },
  {
   "cell_type": "markdown",
   "metadata": {},
   "source": [
    "# 3: Influent characteristics visualization"
   ]
  },
  {
   "cell_type": "markdown",
   "metadata": {},
   "source": [
    "## Parsing setup"
   ]
  },
  {
   "cell_type": "code",
   "execution_count": 13,
   "metadata": {},
   "outputs": [
    {
     "data": {
      "text/html": [
       "<div>\n",
       "<style>\n",
       "    .dataframe thead tr:only-child th {\n",
       "        text-align: right;\n",
       "    }\n",
       "\n",
       "    .dataframe thead th {\n",
       "        text-align: left;\n",
       "    }\n",
       "\n",
       "    .dataframe tbody tr th {\n",
       "        vertical-align: top;\n",
       "    }\n",
       "</style>\n",
       "<table border=\"1\" class=\"dataframe\">\n",
       "  <thead>\n",
       "    <tr style=\"text-align: right;\">\n",
       "      <th></th>\n",
       "      <th>Date</th>\n",
       "      <th>COD</th>\n",
       "      <th>BOD</th>\n",
       "      <th>TSS</th>\n",
       "    </tr>\n",
       "  </thead>\n",
       "  <tbody>\n",
       "    <tr>\n",
       "      <th>0</th>\n",
       "      <td>2013-10-01</td>\n",
       "      <td>NaN</td>\n",
       "      <td>NaN</td>\n",
       "      <td>NaN</td>\n",
       "    </tr>\n",
       "    <tr>\n",
       "      <th>1</th>\n",
       "      <td>2013-10-02</td>\n",
       "      <td>NaN</td>\n",
       "      <td>NaN</td>\n",
       "      <td>NaN</td>\n",
       "    </tr>\n",
       "    <tr>\n",
       "      <th>2</th>\n",
       "      <td>2013-10-03</td>\n",
       "      <td>NaN</td>\n",
       "      <td>NaN</td>\n",
       "      <td>NaN</td>\n",
       "    </tr>\n",
       "    <tr>\n",
       "      <th>3</th>\n",
       "      <td>2013-10-04</td>\n",
       "      <td>NaN</td>\n",
       "      <td>NaN</td>\n",
       "      <td>NaN</td>\n",
       "    </tr>\n",
       "    <tr>\n",
       "      <th>4</th>\n",
       "      <td>2013-10-05</td>\n",
       "      <td>411.0</td>\n",
       "      <td>187.0</td>\n",
       "      <td>265.0</td>\n",
       "    </tr>\n",
       "  </tbody>\n",
       "</table>\n",
       "</div>"
      ],
      "text/plain": [
       "        Date    COD    BOD    TSS\n",
       "0 2013-10-01    NaN    NaN    NaN\n",
       "1 2013-10-02    NaN    NaN    NaN\n",
       "2 2013-10-03    NaN    NaN    NaN\n",
       "3 2013-10-04    NaN    NaN    NaN\n",
       "4 2013-10-05  411.0  187.0  265.0"
      ]
     },
     "execution_count": 13,
     "metadata": {},
     "output_type": "execute_result"
    }
   ],
   "source": [
    "# Parsing parameters\n",
    "footer = 0\n",
    "columns = [0, 7, 8, 11]\n",
    "sheetnumber = 1\n",
    "\n",
    "# Dataframe\n",
    "df = fileToDframe(filename, footer, columns, sheetnumber)\n",
    "df.head()"
   ]
  },
  {
   "cell_type": "markdown",
   "metadata": {},
   "source": [
    "## Plotting setup"
   ]
  },
  {
   "cell_type": "code",
   "execution_count": 14,
   "metadata": {},
   "outputs": [
    {
     "data": {
      "image/png": "[encoded data removed]",
      "text/plain": [
       "<matplotlib.figure.Figure at 0xd8074a8>"
      ]
     },
     "metadata": {},
     "output_type": "display_data"
    },
    {
     "data": {
      "text/plain": [
       "(<matplotlib.axes._subplots.AxesSubplot at 0xd744e48>,\n",
       " <matplotlib.figure.Figure at 0xd8074a8>)"
      ]
     },
     "execution_count": 14,
     "metadata": {},
     "output_type": "execute_result"
    }
   ],
   "source": [
    "# Plotting parameters\n",
    "y_list = ['COD','BOD','TSS']\n",
    "y1label = 'mg/L'\n",
    "title = \"Influent Characteristics\"\n",
    "graph_type = '.'\n",
    "size = (16,8)\n",
    "\n",
    "# Plot figure\n",
    "plotDframe(df, y_list, graph_type, title, size, y1label)"
   ]
  },
  {
   "cell_type": "markdown",
   "metadata": {},
   "source": [
    "# 4: Influent and effluent recycling characteristics"
   ]
  },
  {
   "cell_type": "markdown",
   "metadata": {},
   "source": [
    "## Parsing setup"
   ]
  },
  {
   "cell_type": "code",
   "execution_count": 15,
   "metadata": {},
   "outputs": [
    {
     "data": {
      "text/html": [
       "<div>\n",
       "<style>\n",
       "    .dataframe thead tr:only-child th {\n",
       "        text-align: right;\n",
       "    }\n",
       "\n",
       "    .dataframe thead th {\n",
       "        text-align: left;\n",
       "    }\n",
       "\n",
       "    .dataframe tbody tr th {\n",
       "        vertical-align: top;\n",
       "    }\n",
       "</style>\n",
       "<table border=\"1\" class=\"dataframe\">\n",
       "  <thead>\n",
       "    <tr style=\"text-align: right;\">\n",
       "      <th></th>\n",
       "      <th>Date</th>\n",
       "      <th>COD</th>\n",
       "      <th>BOD</th>\n",
       "      <th>TSS</th>\n",
       "    </tr>\n",
       "  </thead>\n",
       "  <tbody>\n",
       "    <tr>\n",
       "      <th>0</th>\n",
       "      <td>2013-10-01</td>\n",
       "      <td>NaN</td>\n",
       "      <td>NaN</td>\n",
       "      <td>NaN</td>\n",
       "    </tr>\n",
       "    <tr>\n",
       "      <th>1</th>\n",
       "      <td>2013-10-02</td>\n",
       "      <td>NaN</td>\n",
       "      <td>NaN</td>\n",
       "      <td>NaN</td>\n",
       "    </tr>\n",
       "    <tr>\n",
       "      <th>2</th>\n",
       "      <td>2013-10-03</td>\n",
       "      <td>NaN</td>\n",
       "      <td>NaN</td>\n",
       "      <td>NaN</td>\n",
       "    </tr>\n",
       "    <tr>\n",
       "      <th>3</th>\n",
       "      <td>2013-10-04</td>\n",
       "      <td>NaN</td>\n",
       "      <td>NaN</td>\n",
       "      <td>NaN</td>\n",
       "    </tr>\n",
       "    <tr>\n",
       "      <th>4</th>\n",
       "      <td>2013-10-05</td>\n",
       "      <td>160.0</td>\n",
       "      <td>64.0</td>\n",
       "      <td>93.0</td>\n",
       "    </tr>\n",
       "  </tbody>\n",
       "</table>\n",
       "</div>"
      ],
      "text/plain": [
       "        Date    COD   BOD   TSS\n",
       "0 2013-10-01    NaN   NaN   NaN\n",
       "1 2013-10-02    NaN   NaN   NaN\n",
       "2 2013-10-03    NaN   NaN   NaN\n",
       "3 2013-10-04    NaN   NaN   NaN\n",
       "4 2013-10-05  160.0  64.0  93.0"
      ]
     },
     "execution_count": 15,
     "metadata": {},
     "output_type": "execute_result"
    }
   ],
   "source": [
    "# Parsing parameters\n",
    "footer = 0\n",
    "columns = [0, 15, 16, 19]\n",
    "sheetnumber = 1\n",
    "\n",
    "# Dataframe\n",
    "df = fileToDframe(filename, footer, columns, sheetnumber)\n",
    "df.head()"
   ]
  },
  {
   "cell_type": "markdown",
   "metadata": {},
   "source": [
    "## Plotting setup\n"
   ]
  },
  {
   "cell_type": "code",
   "execution_count": 16,
   "metadata": {},
   "outputs": [
    {
     "data": {
      "image/png": "[encoded data removed]",
      "text/plain": [
       "<matplotlib.figure.Figure at 0xd977e80>"
      ]
     },
     "metadata": {},
     "output_type": "display_data"
    },
    {
     "data": {
      "text/plain": [
       "(<matplotlib.axes._subplots.AxesSubplot at 0xd91fb70>,\n",
       " <matplotlib.figure.Figure at 0xd977e80>)"
      ]
     },
     "execution_count": 16,
     "metadata": {},
     "output_type": "execute_result"
    }
   ],
   "source": [
    "# Plotting parameters\n",
    "y_list = ['COD','BOD','TSS']\n",
    "y1label = 'mg/L'\n",
    "title = 'Influent and effluent recycling characterstics'\n",
    "graph_type = '.'\n",
    "size = (16,8)\n",
    "\n",
    "# Plot figure\n",
    "plotDframe(df, y_list, graph_type, title, size, y1label)"
   ]
  },
  {
   "cell_type": "markdown",
   "metadata": {},
   "source": [
    "# 5: A-stage bioreactor data visualization"
   ]
  },
  {
   "cell_type": "markdown",
   "metadata": {},
   "source": [
    "## Parsing setup"
   ]
  },
  {
   "cell_type": "code",
   "execution_count": 17,
   "metadata": {
    "scrolled": true
   },
   "outputs": [
    {
     "data": {
      "text/html": [
       "<div>\n",
       "<style>\n",
       "    .dataframe thead tr:only-child th {\n",
       "        text-align: right;\n",
       "    }\n",
       "\n",
       "    .dataframe thead th {\n",
       "        text-align: left;\n",
       "    }\n",
       "\n",
       "    .dataframe tbody tr th {\n",
       "        vertical-align: top;\n",
       "    }\n",
       "</style>\n",
       "<table border=\"1\" class=\"dataframe\">\n",
       "  <thead>\n",
       "    <tr style=\"text-align: right;\">\n",
       "      <th></th>\n",
       "      <th>Date</th>\n",
       "      <th>TSS</th>\n",
       "      <th>SRT</th>\n",
       "      <th>HRT</th>\n",
       "    </tr>\n",
       "  </thead>\n",
       "  <tbody>\n",
       "    <tr>\n",
       "      <th>0</th>\n",
       "      <td>2013-10-01</td>\n",
       "      <td>NaN</td>\n",
       "      <td>NaN</td>\n",
       "      <td>0.015093</td>\n",
       "    </tr>\n",
       "    <tr>\n",
       "      <th>1</th>\n",
       "      <td>2013-10-02</td>\n",
       "      <td>NaN</td>\n",
       "      <td>NaN</td>\n",
       "      <td>0.015255</td>\n",
       "    </tr>\n",
       "    <tr>\n",
       "      <th>2</th>\n",
       "      <td>2013-10-03</td>\n",
       "      <td>3276.0</td>\n",
       "      <td>NaN</td>\n",
       "      <td>0.015135</td>\n",
       "    </tr>\n",
       "    <tr>\n",
       "      <th>3</th>\n",
       "      <td>2013-10-04</td>\n",
       "      <td>NaN</td>\n",
       "      <td>NaN</td>\n",
       "      <td>0.014593</td>\n",
       "    </tr>\n",
       "    <tr>\n",
       "      <th>4</th>\n",
       "      <td>2013-10-05</td>\n",
       "      <td>NaN</td>\n",
       "      <td>0.344328</td>\n",
       "      <td>0.014755</td>\n",
       "    </tr>\n",
       "  </tbody>\n",
       "</table>\n",
       "</div>"
      ],
      "text/plain": [
       "        Date     TSS       SRT       HRT\n",
       "0 2013-10-01     NaN       NaN  0.015093\n",
       "1 2013-10-02     NaN       NaN  0.015255\n",
       "2 2013-10-03  3276.0       NaN  0.015135\n",
       "3 2013-10-04     NaN       NaN  0.014593\n",
       "4 2013-10-05     NaN  0.344328  0.014755"
      ]
     },
     "execution_count": 17,
     "metadata": {},
     "output_type": "execute_result"
    }
   ],
   "source": [
    "# Parsing parameters\n",
    "footer = 0\n",
    "columns = [0, 4, 23, 25]\n",
    "sheetnumber = 3\n",
    "\n",
    "# Dataframe\n",
    "df = fileToDframe(filename, footer, columns, sheetnumber)\n",
    "df.head()"
   ]
  },
  {
   "cell_type": "markdown",
   "metadata": {},
   "source": [
    "## 5.1 Plotting setup for SRT an HRT"
   ]
  },
  {
   "cell_type": "code",
   "execution_count": 18,
   "metadata": {},
   "outputs": [
    {
     "data": {
      "image/png": "[encoded data removed]",
      "text/plain": [
       "<matplotlib.figure.Figure at 0xd9011d0>"
      ]
     },
     "metadata": {},
     "output_type": "display_data"
    },
    {
     "data": {
      "text/plain": [
       "(<matplotlib.axes._subplots.AxesSubplot at 0xd901e48>,\n",
       " <matplotlib.figure.Figure at 0xd9011d0>)"
      ]
     },
     "execution_count": 18,
     "metadata": {},
     "output_type": "execute_result"
    }
   ],
   "source": [
    "# Plotting parameters\n",
    "y_list = ['SRT','HRT']\n",
    "y1label = 'd'\n",
    "title = 'A-stage bioreactor retention times'\n",
    "graph_type = '.'\n",
    "size = (16,8)\n",
    "\n",
    "# Plot figure\n",
    "plotDframe(df, y_list, graph_type, title, size, y1label)"
   ]
  },
  {
   "cell_type": "markdown",
   "metadata": {},
   "source": [
    "## 5.2 Plotting setup for A-stage bioreactor TSS"
   ]
  },
  {
   "cell_type": "code",
   "execution_count": 19,
   "metadata": {},
   "outputs": [
    {
     "data": {
      "image/png": "[encoded data removed]",
      "text/plain": [
       "<matplotlib.figure.Figure at 0xd4e1048>"
      ]
     },
     "metadata": {},
     "output_type": "display_data"
    },
    {
     "data": {
      "text/plain": [
       "(<matplotlib.axes._subplots.AxesSubplot at 0xdd72a58>,\n",
       " <matplotlib.figure.Figure at 0xd4e1048>)"
      ]
     },
     "execution_count": 19,
     "metadata": {},
     "output_type": "execute_result"
    }
   ],
   "source": [
    "# Plotting parameters\n",
    "y_list = ['TSS']\n",
    "y1label = 'mg/L'\n",
    "title = 'Total Suspended Solids'\n",
    "graph_type = '.'\n",
    "size = (16,8)\n",
    "\n",
    "# Plot figure\n",
    "plotDframe(df, y_list, graph_type, title, size, y1label)"
   ]
  },
  {
   "cell_type": "markdown",
   "metadata": {},
   "source": [
    "## 5.3.1 Parsing setup for oxygen concentrations in sections II and III"
   ]
  },
  {
   "cell_type": "code",
   "execution_count": 20,
   "metadata": {},
   "outputs": [
    {
     "data": {
      "text/html": [
       "<div>\n",
       "<style>\n",
       "    .dataframe thead tr:only-child th {\n",
       "        text-align: right;\n",
       "    }\n",
       "\n",
       "    .dataframe thead th {\n",
       "        text-align: left;\n",
       "    }\n",
       "\n",
       "    .dataframe tbody tr th {\n",
       "        vertical-align: top;\n",
       "    }\n",
       "</style>\n",
       "<table border=\"1\" class=\"dataframe\">\n",
       "  <thead>\n",
       "    <tr style=\"text-align: right;\">\n",
       "      <th></th>\n",
       "      <th>Date</th>\n",
       "      <th>O2_section_II</th>\n",
       "      <th>O2_section_III</th>\n",
       "    </tr>\n",
       "  </thead>\n",
       "  <tbody>\n",
       "    <tr>\n",
       "      <th>0</th>\n",
       "      <td>2013-10-01</td>\n",
       "      <td>0.636667</td>\n",
       "      <td>1.576667</td>\n",
       "    </tr>\n",
       "    <tr>\n",
       "      <th>1</th>\n",
       "      <td>2013-10-02</td>\n",
       "      <td>0.583333</td>\n",
       "      <td>1.559583</td>\n",
       "    </tr>\n",
       "    <tr>\n",
       "      <th>2</th>\n",
       "      <td>2013-10-03</td>\n",
       "      <td>0.455833</td>\n",
       "      <td>1.537500</td>\n",
       "    </tr>\n",
       "    <tr>\n",
       "      <th>3</th>\n",
       "      <td>2013-10-04</td>\n",
       "      <td>0.259583</td>\n",
       "      <td>1.650417</td>\n",
       "    </tr>\n",
       "    <tr>\n",
       "      <th>4</th>\n",
       "      <td>2013-10-05</td>\n",
       "      <td>0.369583</td>\n",
       "      <td>1.080000</td>\n",
       "    </tr>\n",
       "  </tbody>\n",
       "</table>\n",
       "</div>"
      ],
      "text/plain": [
       "        Date  O2_section_II  O2_section_III\n",
       "0 2013-10-01       0.636667        1.576667\n",
       "1 2013-10-02       0.583333        1.559583\n",
       "2 2013-10-03       0.455833        1.537500\n",
       "3 2013-10-04       0.259583        1.650417\n",
       "4 2013-10-05       0.369583        1.080000"
      ]
     },
     "execution_count": 20,
     "metadata": {},
     "output_type": "execute_result"
    }
   ],
   "source": [
    "# Parsing parameters\n",
    "footer = 0\n",
    "columns = [0, 35, 36]\n",
    "sheetnumber = 1\n",
    "\n",
    "# Dataframe\n",
    "df = fileToDframe(filename, footer, columns, sheetnumber)\n",
    "df.head()"
   ]
  },
  {
   "cell_type": "markdown",
   "metadata": {},
   "source": [
    "## 5.3.2 Plotting setup for oxygen concentrations in sections II and III"
   ]
  },
  {
   "cell_type": "code",
   "execution_count": 21,
   "metadata": {},
   "outputs": [
    {
     "data": {
      "image/png": "[encoded data removed]",
      "text/plain": [
       "<matplotlib.figure.Figure at 0xe00fe10>"
      ]
     },
     "metadata": {},
     "output_type": "display_data"
    },
    {
     "data": {
      "text/plain": [
       "(<matplotlib.axes._subplots.AxesSubplot at 0xdb9b470>,\n",
       " <matplotlib.figure.Figure at 0xe00fe10>)"
      ]
     },
     "execution_count": 21,
     "metadata": {},
     "output_type": "execute_result"
    }
   ],
   "source": [
    "# Plotting parameters\n",
    "y_list = ['O2_section_II', 'O2_section_III']\n",
    "y1label = 'mg/L'\n",
    "title = 'Oxygen concentrations, sections II and III'\n",
    "graph_type = '.'\n",
    "size = (16,8)\n",
    "\n",
    "# Plot figure\n",
    "plotDframe(df, y_list, graph_type, title, size, y1label)"
   ]
  },
  {
   "cell_type": "markdown",
   "metadata": {},
   "source": [
    "# 6: Effluent quality measurements"
   ]
  },
  {
   "cell_type": "markdown",
   "metadata": {},
   "source": [
    "## Parsing setup"
   ]
  },
  {
   "cell_type": "code",
   "execution_count": 22,
   "metadata": {},
   "outputs": [
    {
     "data": {
      "text/html": [
       "<div>\n",
       "<style>\n",
       "    .dataframe thead tr:only-child th {\n",
       "        text-align: right;\n",
       "    }\n",
       "\n",
       "    .dataframe thead th {\n",
       "        text-align: left;\n",
       "    }\n",
       "\n",
       "    .dataframe tbody tr th {\n",
       "        vertical-align: top;\n",
       "    }\n",
       "</style>\n",
       "<table border=\"1\" class=\"dataframe\">\n",
       "  <thead>\n",
       "    <tr style=\"text-align: right;\">\n",
       "      <th></th>\n",
       "      <th>Date</th>\n",
       "      <th>SVI</th>\n",
       "      <th>COD</th>\n",
       "      <th>TSS</th>\n",
       "    </tr>\n",
       "  </thead>\n",
       "  <tbody>\n",
       "    <tr>\n",
       "      <th>0</th>\n",
       "      <td>2013-10-01</td>\n",
       "      <td>NaN</td>\n",
       "      <td>NaN</td>\n",
       "      <td>NaN</td>\n",
       "    </tr>\n",
       "    <tr>\n",
       "      <th>1</th>\n",
       "      <td>2013-10-02</td>\n",
       "      <td>NaN</td>\n",
       "      <td>NaN</td>\n",
       "      <td>NaN</td>\n",
       "    </tr>\n",
       "    <tr>\n",
       "      <th>2</th>\n",
       "      <td>2013-10-03</td>\n",
       "      <td>85.0</td>\n",
       "      <td>NaN</td>\n",
       "      <td>NaN</td>\n",
       "    </tr>\n",
       "    <tr>\n",
       "      <th>3</th>\n",
       "      <td>2013-10-04</td>\n",
       "      <td>NaN</td>\n",
       "      <td>NaN</td>\n",
       "      <td>NaN</td>\n",
       "    </tr>\n",
       "    <tr>\n",
       "      <th>4</th>\n",
       "      <td>2013-10-05</td>\n",
       "      <td>NaN</td>\n",
       "      <td>100.0</td>\n",
       "      <td>39.0</td>\n",
       "    </tr>\n",
       "  </tbody>\n",
       "</table>\n",
       "</div>"
      ],
      "text/plain": [
       "        Date   SVI    COD   TSS\n",
       "0 2013-10-01   NaN    NaN   NaN\n",
       "1 2013-10-02   NaN    NaN   NaN\n",
       "2 2013-10-03  85.0    NaN   NaN\n",
       "3 2013-10-04   NaN    NaN   NaN\n",
       "4 2013-10-05   NaN  100.0  39.0"
      ]
     },
     "execution_count": 22,
     "metadata": {},
     "output_type": "execute_result"
    }
   ],
   "source": [
    "# Parsing parameters\n",
    "footer = 0\n",
    "columns = [0, 33, 43, 47]\n",
    "sheetnumber = 1\n",
    "\n",
    "# Dataframe\n",
    "df = fileToDframe(filename, footer, columns, sheetnumber)\n",
    "df.head()"
   ]
  },
  {
   "cell_type": "markdown",
   "metadata": {},
   "source": [
    "## Plotting setup"
   ]
  },
  {
   "cell_type": "code",
   "execution_count": 23,
   "metadata": {},
   "outputs": [
    {
     "data": {
      "image/png": "[encoded data removed]",
      "text/plain": [
       "<matplotlib.figure.Figure at 0xe0f8c88>"
      ]
     },
     "metadata": {},
     "output_type": "display_data"
    },
    {
     "data": {
      "text/plain": [
       "(<matplotlib.axes._subplots.AxesSubplot at 0xdb9b080>,\n",
       " <matplotlib.figure.Figure at 0xe0f8c88>)"
      ]
     },
     "execution_count": 23,
     "metadata": {},
     "output_type": "execute_result"
    }
   ],
   "source": [
    "# Plotting parameters\n",
    "y_list = ['COD','TSS']\n",
    "y1label = 'mg/L'\n",
    "sec_y = 'SVI'\n",
    "y2label = 'ml/g'\n",
    "title = 'Effluent quality measurements'\n",
    "graph_type = '.'\n",
    "size = (16, 8)\n",
    "style = 'plain'\n",
    "\n",
    "# Plot figure\n",
    "plotDframe(df, y_list, graph_type, title, size, y1label, style, sec_y, y2label)"
   ]
  },
  {
   "cell_type": "markdown",
   "metadata": {
    "collapsed": true
   },
   "source": [
    "# TODO: Additional parameters"
   ]
  },
  {
   "cell_type": "markdown",
   "metadata": {},
   "source": [
    "## Food/Micro-organisms ratio (F/M)"
   ]
  },
  {
   "cell_type": "markdown",
   "metadata": {},
   "source": [
    "To calculate the F/M ratio there are two relevant formulas. 1: [(BOD x Q) / (MLVSS x Aeration Volume)] and 2: [(COD x Q) / (MLSS x Aeration Volume)] "
   ]
  },
  {
   "cell_type": "markdown",
   "metadata": {},
   "source": [
    "### Parsing setup\n",
    "In order to calculate the F/M ratio, the necessary columns need to be parsed."
   ]
  },
  {
   "cell_type": "code",
   "execution_count": 28,
   "metadata": {},
   "outputs": [
    {
     "data": {
      "text/html": [
       "<div>\n",
       "<style>\n",
       "    .dataframe thead tr:only-child th {\n",
       "        text-align: right;\n",
       "    }\n",
       "\n",
       "    .dataframe thead th {\n",
       "        text-align: left;\n",
       "    }\n",
       "\n",
       "    .dataframe tbody tr th {\n",
       "        vertical-align: top;\n",
       "    }\n",
       "</style>\n",
       "<table border=\"1\" class=\"dataframe\">\n",
       "  <thead>\n",
       "    <tr style=\"text-align: right;\">\n",
       "      <th></th>\n",
       "      <th>Date</th>\n",
       "      <th>Qeffl_recirc</th>\n",
       "      <th>Qinf</th>\n",
       "      <th>COD</th>\n",
       "      <th>BOD</th>\n",
       "      <th>TSS</th>\n",
       "      <th>filtrate</th>\n",
       "      <th>TSS.1</th>\n",
       "      <th>VSS</th>\n",
       "      <th>Sludge_recycle</th>\n",
       "      <th>demon_inflow</th>\n",
       "    </tr>\n",
       "  </thead>\n",
       "  <tbody>\n",
       "    <tr>\n",
       "      <th>0</th>\n",
       "      <td>2013-10-01</td>\n",
       "      <td>177300</td>\n",
       "      <td>51742</td>\n",
       "      <td>NaN</td>\n",
       "      <td>NaN</td>\n",
       "      <td>NaN</td>\n",
       "      <td>2846.600</td>\n",
       "      <td>NaN</td>\n",
       "      <td>NaN</td>\n",
       "      <td>1197.0</td>\n",
       "      <td>0.0</td>\n",
       "    </tr>\n",
       "    <tr>\n",
       "      <th>1</th>\n",
       "      <td>2013-10-02</td>\n",
       "      <td>176400</td>\n",
       "      <td>50233</td>\n",
       "      <td>NaN</td>\n",
       "      <td>NaN</td>\n",
       "      <td>NaN</td>\n",
       "      <td>2800.750</td>\n",
       "      <td>NaN</td>\n",
       "      <td>NaN</td>\n",
       "      <td>1192.0</td>\n",
       "      <td>0.0</td>\n",
       "    </tr>\n",
       "    <tr>\n",
       "      <th>2</th>\n",
       "      <td>2013-10-03</td>\n",
       "      <td>178600</td>\n",
       "      <td>49400</td>\n",
       "      <td>NaN</td>\n",
       "      <td>NaN</td>\n",
       "      <td>NaN</td>\n",
       "      <td>3245.865</td>\n",
       "      <td>3276.0</td>\n",
       "      <td>20.4</td>\n",
       "      <td>1437.0</td>\n",
       "      <td>0.0</td>\n",
       "    </tr>\n",
       "    <tr>\n",
       "      <th>3</th>\n",
       "      <td>2013-10-04</td>\n",
       "      <td>152550</td>\n",
       "      <td>83800</td>\n",
       "      <td>NaN</td>\n",
       "      <td>NaN</td>\n",
       "      <td>NaN</td>\n",
       "      <td>3494.340</td>\n",
       "      <td>NaN</td>\n",
       "      <td>NaN</td>\n",
       "      <td>1682.0</td>\n",
       "      <td>0.0</td>\n",
       "    </tr>\n",
       "    <tr>\n",
       "      <th>4</th>\n",
       "      <td>2013-10-05</td>\n",
       "      <td>156250</td>\n",
       "      <td>76500</td>\n",
       "      <td>411.0</td>\n",
       "      <td>187.0</td>\n",
       "      <td>93.0</td>\n",
       "      <td>4459.415</td>\n",
       "      <td>NaN</td>\n",
       "      <td>NaN</td>\n",
       "      <td>2321.0</td>\n",
       "      <td>0.0</td>\n",
       "    </tr>\n",
       "  </tbody>\n",
       "</table>\n",
       "</div>"
      ],
      "text/plain": [
       "        Date  Qeffl_recirc   Qinf    COD    BOD   TSS  filtrate   TSS.1   VSS  \\\n",
       "0 2013-10-01        177300  51742    NaN    NaN   NaN  2846.600     NaN   NaN   \n",
       "1 2013-10-02        176400  50233    NaN    NaN   NaN  2800.750     NaN   NaN   \n",
       "2 2013-10-03        178600  49400    NaN    NaN   NaN  3245.865  3276.0  20.4   \n",
       "3 2013-10-04        152550  83800    NaN    NaN   NaN  3494.340     NaN   NaN   \n",
       "4 2013-10-05        156250  76500  411.0  187.0  93.0  4459.415     NaN   NaN   \n",
       "\n",
       "   Sludge_recycle  demon_inflow  \n",
       "0          1197.0           0.0  \n",
       "1          1192.0           0.0  \n",
       "2          1437.0           0.0  \n",
       "3          1682.0           0.0  \n",
       "4          2321.0           0.0  "
      ]
     },
     "execution_count": 28,
     "metadata": {},
     "output_type": "execute_result"
    }
   ],
   "source": [
    "# Parsing parameters\n",
    "footer = 92\n",
    "columns = [0, 5, 6, 7, 8, 19, 20, 31, 32, 37, 118] # Date parsed for plotting after calculation. #0=Date, 5=Qeffl_recirc, 6=Qinf, 7=COD, 8=BOD, 19= Inf+eff_TSS, 20=filtrate,\n",
    "#31=Sludge TSS, 32= Sludge VSS, 37=Sludge_recycle, 118=demon_inflow\n",
    "sheetnumber = 1\n",
    "\n",
    "\n",
    "# Dataframe\n",
    "df = fileToDframe(filename, footer, columns, sheetnumber)\n",
    "df.head()"
   ]
  },
  {
   "cell_type": "markdown",
   "metadata": {},
   "source": [
    "Working with pandas objects and this formula, it is of best practice to create dataframes with the needed values, and creating a function that performs the necessary operators on the columns and rows of the dataframe. "
   ]
  },
  {
   "cell_type": "code",
   "execution_count": 29,
   "metadata": {},
   "outputs": [
    {
     "data": {
      "text/plain": [
       "0    233085.600\n",
       "1    230625.750\n",
       "2    232682.865\n",
       "3    241526.340\n",
       "4    239530.415\n",
       "dtype: float64"
      ]
     },
     "execution_count": 29,
     "metadata": {},
     "output_type": "execute_result"
    }
   ],
   "source": [
    "# Q (Qtot) calculation\n",
    "dfq = df['Qinf'] + df['Qeffl_recirc'] + df['filtrate'] + df['demon_inflow'] + df['Sludge_recycle'] # Creating a dataframe consisting of Q\n",
    "dfq.head()"
   ]
  },
  {
   "cell_type": "code",
   "execution_count": 30,
   "metadata": {},
   "outputs": [
    {
     "data": {
      "text/plain": [
       "0      NaN\n",
       "1      NaN\n",
       "2      NaN\n",
       "3      NaN\n",
       "4    411.0\n",
       "Name: COD, dtype: float64"
      ]
     },
     "execution_count": 30,
     "metadata": {},
     "output_type": "execute_result"
    }
   ],
   "source": [
    "# Create dataframe with BOD\n",
    "dfbod = df['BOD']\n",
    "\n",
    "\n",
    "dfcod = df['COD']\n",
    "dfcod.head()"
   ]
  },
  {
   "cell_type": "code",
   "execution_count": 31,
   "metadata": {},
   "outputs": [
    {
     "data": {
      "text/plain": [
       "0             NaN\n",
       "1             NaN\n",
       "2             NaN\n",
       "3             NaN\n",
       "4    9.844700e+07\n",
       "dtype: float64"
      ]
     },
     "execution_count": 31,
     "metadata": {},
     "output_type": "execute_result"
    }
   ],
   "source": [
    "dff = dfq*dfcod\n",
    "dff.head()"
   ]
  },
  {
   "cell_type": "markdown",
   "metadata": {},
   "source": [
    "### Parsing for edited data from another sheet"
   ]
  },
  {
   "cell_type": "code",
   "execution_count": 36,
   "metadata": {},
   "outputs": [
    {
     "data": {
      "text/html": [
       "<div>\n",
       "<style>\n",
       "    .dataframe thead tr:only-child th {\n",
       "        text-align: right;\n",
       "    }\n",
       "\n",
       "    .dataframe thead th {\n",
       "        text-align: left;\n",
       "    }\n",
       "\n",
       "    .dataframe tbody tr th {\n",
       "        vertical-align: top;\n",
       "    }\n",
       "</style>\n",
       "<table border=\"1\" class=\"dataframe\">\n",
       "  <thead>\n",
       "    <tr style=\"text-align: right;\">\n",
       "      <th></th>\n",
       "      <th>Date</th>\n",
       "      <th>Qrecirc</th>\n",
       "    </tr>\n",
       "  </thead>\n",
       "  <tbody>\n",
       "    <tr>\n",
       "      <th>0</th>\n",
       "      <td>2013-10-01</td>\n",
       "      <td>3.426617</td>\n",
       "    </tr>\n",
       "    <tr>\n",
       "      <th>1</th>\n",
       "      <td>2013-10-02</td>\n",
       "      <td>3.511636</td>\n",
       "    </tr>\n",
       "    <tr>\n",
       "      <th>2</th>\n",
       "      <td>2013-10-03</td>\n",
       "      <td>3.615385</td>\n",
       "    </tr>\n",
       "    <tr>\n",
       "      <th>3</th>\n",
       "      <td>2013-10-04</td>\n",
       "      <td>1.820406</td>\n",
       "    </tr>\n",
       "    <tr>\n",
       "      <th>4</th>\n",
       "      <td>2013-10-05</td>\n",
       "      <td>2.042484</td>\n",
       "    </tr>\n",
       "  </tbody>\n",
       "</table>\n",
       "</div>"
      ],
      "text/plain": [
       "        Date   Qrecirc\n",
       "0 2013-10-01  3.426617\n",
       "1 2013-10-02  3.511636\n",
       "2 2013-10-03  3.615385\n",
       "3 2013-10-04  1.820406\n",
       "4 2013-10-05  2.042484"
      ]
     },
     "execution_count": 36,
     "metadata": {},
     "output_type": "execute_result"
    }
   ],
   "source": [
    "# Parsing parameters\n",
    "footer = 1\n",
    "columns = [0, 3] # 0=Date, 3=Recycling factor, 4=MLSS, 8=MLVSS\n",
    "sheetnumber = 3\n",
    "\n",
    "# Dataframe\n",
    "dfml = fileToDframe(filename, footer, columns, sheetnumber)\n",
    "dfml.head()"
   ]
  },
  {
   "cell_type": "code",
   "execution_count": 38,
   "metadata": {},
   "outputs": [
    {
     "data": {
      "image/png": "[encoded data removed]",
      "text/plain": [
       "<matplotlib.figure.Figure at 0xfbeabe0>"
      ]
     },
     "metadata": {},
     "output_type": "display_data"
    },
    {
     "data": {
      "text/plain": [
       "(<matplotlib.axes._subplots.AxesSubplot at 0xfe698d0>,\n",
       " <matplotlib.figure.Figure at 0xfbeabe0>)"
      ]
     },
     "execution_count": 38,
     "metadata": {},
     "output_type": "execute_result"
    }
   ],
   "source": [
    "y_list = ['Qrecirc']\n",
    "y1label = 'Ratio'\n",
    "title = 'Recirculation Factor over time'\n",
    "graph_type = '.'\n",
    "size = (16, 8)\n",
    "style = 'plain'\n",
    "\n",
    "# Plot figure\n",
    "plotDframe(dfml, y_list, graph_type, title, size, y1label, style)\n"
   ]
  },
  {
   "cell_type": "code",
   "execution_count": 30,
   "metadata": {},
   "outputs": [
    {
     "data": {
      "text/plain": [
       "0          NaN\n",
       "1          NaN\n",
       "2    7973784.0\n",
       "3          NaN\n",
       "4          NaN\n",
       "Name: TSS, dtype: float64"
      ]
     },
     "execution_count": 30,
     "metadata": {},
     "output_type": "execute_result"
    }
   ],
   "source": [
    "# Create dataframe with MLVSS with Aeration volume (2434 m3)\n",
    "\n",
    "dfml = dfml['TSS']*2434.0\n",
    "\n",
    "#dfml1 = dfml['Date']\n",
    "#dfml3 = pd.concat([dfml1, dfml2], axis=1)\n",
    "dfml.head()"
   ]
  },
  {
   "cell_type": "code",
   "execution_count": 31,
   "metadata": {},
   "outputs": [
    {
     "name": "stdout",
     "output_type": "stream",
     "text": [
      "            BODxQ        VSS\n",
      "0             NaN        NaN\n",
      "1             NaN        NaN\n",
      "2             NaN  7973784.0\n",
      "3             NaN        NaN\n",
      "4    9.844700e+07        NaN\n",
      "5             NaN        NaN\n",
      "6             NaN  7744988.0\n",
      "7             NaN        NaN\n",
      "8             NaN        NaN\n",
      "9             NaN  7486984.0\n",
      "10   8.309959e+07        NaN\n",
      "11            NaN        NaN\n",
      "12            NaN        NaN\n",
      "13            NaN  5252572.0\n",
      "14            NaN        NaN\n",
      "15            NaN        NaN\n",
      "16   8.040785e+07  5164948.0\n",
      "17            NaN        NaN\n",
      "18            NaN        NaN\n",
      "19            NaN        NaN\n",
      "20            NaN  6795728.0\n",
      "21            NaN        NaN\n",
      "22   9.256433e+07        NaN\n",
      "23            NaN  5583596.0\n",
      "24            NaN        NaN\n",
      "25            NaN        NaN\n",
      "26            NaN        NaN\n",
      "27            NaN  7637892.0\n",
      "28   8.670049e+07        NaN\n",
      "29            NaN        NaN\n",
      "..            ...        ...\n",
      "183  1.201040e+08        NaN\n",
      "184           NaN  6873616.0\n",
      "185           NaN        NaN\n",
      "186           NaN        NaN\n",
      "187           NaN        NaN\n",
      "188           NaN  5739372.0\n",
      "189  1.351963e+08        NaN\n",
      "190           NaN        NaN\n",
      "191           NaN  6046056.0\n",
      "192           NaN        NaN\n",
      "193           NaN        NaN\n",
      "194           NaN        NaN\n",
      "195  7.425986e+07  5432688.0\n",
      "196           NaN        NaN\n",
      "197           NaN        NaN\n",
      "198           NaN  7194904.0\n",
      "199           NaN        NaN\n",
      "200           NaN        NaN\n",
      "201  8.181404e+07        NaN\n",
      "202           NaN  4580788.0\n",
      "203           NaN        NaN\n",
      "204           NaN        NaN\n",
      "205           NaN        NaN\n",
      "206           NaN        NaN\n",
      "207  7.702491e+07        NaN\n",
      "208           NaN        NaN\n",
      "209           NaN        NaN\n",
      "210           NaN        NaN\n",
      "211           NaN        NaN\n",
      "212           NaN  4580788.0\n",
      "\n",
      "[213 rows x 2 columns]\n"
     ]
    }
   ],
   "source": [
    "dfr = pd.concat([dff, dfml], axis=1)\n",
    "dfr.columns = ['BODxQ','VSS']\n",
    "print dfr"
   ]
  },
  {
   "cell_type": "code",
   "execution_count": null,
   "metadata": {
    "collapsed": true
   },
   "outputs": [],
   "source": []
  }
 ],
 "metadata": {
  "kernelspec": {
   "display_name": "Python 2",
   "language": "python",
   "name": "python2"
  },
  "language_info": {
   "codemirror_mode": {
    "name": "ipython",
    "version": 2
   },
   "file_extension": ".py",
   "mimetype": "text/x-python",
   "name": "python",
   "nbconvert_exporter": "python",
   "pygments_lexer": "ipython2",
   "version": "2.7.13"
  }
 },
 "nbformat": 4,
 "nbformat_minor": 1
}
