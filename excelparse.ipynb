{
 "cells": [
  {
   "cell_type": "code",
   "execution_count": 85,
   "metadata": {
    "collapsed": true
   },
   "outputs": [],
   "source": [
    "# load packages\n",
    "import numpy as np\n",
    "import pandas as pd\n",
    "import matplotlib.pyplot as plt\n",
    "import seaborn as sns"
   ]
  },
  {
   "cell_type": "code",
   "execution_count": 86,
   "metadata": {
    "collapsed": true
   },
   "outputs": [],
   "source": [
    "# seaborn styling\n",
    "sns.set_style(\"white\")"
   ]
  },
  {
   "cell_type": "markdown",
   "metadata": {},
   "source": [
    "# Import functions"
   ]
  },
  {
   "cell_type": "code",
   "execution_count": 87,
   "metadata": {
    "collapsed": true
   },
   "outputs": [],
   "source": [
    "%matplotlib inline"
   ]
  },
  {
   "cell_type": "code",
   "execution_count": 88,
   "metadata": {},
   "outputs": [],
   "source": [
    "%run excelparse.py"
   ]
  },
  {
   "cell_type": "markdown",
   "metadata": {},
   "source": [
    "We load the file with the relevant data."
   ]
  },
  {
   "cell_type": "code",
   "execution_count": 89,
   "metadata": {
    "collapsed": true
   },
   "outputs": [],
   "source": [
    "filename = 'Data_nieuwveer.xlsx'"
   ]
  },
  {
   "cell_type": "markdown",
   "metadata": {},
   "source": [
    "# 1: Climate parameter visualization\n"
   ]
  },
  {
   "cell_type": "markdown",
   "metadata": {},
   "source": [
    "## Parsing setup"
   ]
  },
  {
   "cell_type": "markdown",
   "metadata": {},
   "source": [
    "We set the parameters for the parsing of our excel file. The parameters are set depending on what we wish to plot. Returned will be a dataframe with the relevant columns for plotting."
   ]
  },
  {
   "cell_type": "code",
   "execution_count": 90,
   "metadata": {},
   "outputs": [
    {
     "data": {
      "text/html": [
       "<div>\n",
       "<style>\n",
       "    .dataframe thead tr:only-child th {\n",
       "        text-align: right;\n",
       "    }\n",
       "\n",
       "    .dataframe thead th {\n",
       "        text-align: left;\n",
       "    }\n",
       "\n",
       "    .dataframe tbody tr th {\n",
       "        vertical-align: top;\n",
       "    }\n",
       "</style>\n",
       "<table border=\"1\" class=\"dataframe\">\n",
       "  <thead>\n",
       "    <tr style=\"text-align: right;\">\n",
       "      <th></th>\n",
       "      <th>Date</th>\n",
       "      <th>Precipitation</th>\n",
       "      <th>Temperature</th>\n",
       "    </tr>\n",
       "  </thead>\n",
       "  <tbody>\n",
       "    <tr>\n",
       "      <th>0</th>\n",
       "      <td>2013-10-01</td>\n",
       "      <td>0.00</td>\n",
       "      <td>18.507</td>\n",
       "    </tr>\n",
       "    <tr>\n",
       "      <th>1</th>\n",
       "      <td>2013-10-02</td>\n",
       "      <td>0.00</td>\n",
       "      <td>18.468</td>\n",
       "    </tr>\n",
       "    <tr>\n",
       "      <th>2</th>\n",
       "      <td>2013-10-03</td>\n",
       "      <td>0.00</td>\n",
       "      <td>18.244</td>\n",
       "    </tr>\n",
       "    <tr>\n",
       "      <th>3</th>\n",
       "      <td>2013-10-04</td>\n",
       "      <td>6.78</td>\n",
       "      <td>18.283</td>\n",
       "    </tr>\n",
       "    <tr>\n",
       "      <th>4</th>\n",
       "      <td>2013-10-05</td>\n",
       "      <td>0.00</td>\n",
       "      <td>18.163</td>\n",
       "    </tr>\n",
       "  </tbody>\n",
       "</table>\n",
       "</div>"
      ],
      "text/plain": [
       "        Date  Precipitation  Temperature\n",
       "0 2013-10-01           0.00       18.507\n",
       "1 2013-10-02           0.00       18.468\n",
       "2 2013-10-03           0.00       18.244\n",
       "3 2013-10-04           6.78       18.283\n",
       "4 2013-10-05           0.00       18.163"
      ]
     },
     "execution_count": 90,
     "metadata": {},
     "output_type": "execute_result"
    }
   ],
   "source": [
    "# Parameters\n",
    "footer = 20 # Distance in cells from end of file to shortest relevant column\n",
    "columns = [0, 3, 66] # 0=Date, 3=Precipitation, 66=Temperature \n",
    "sheetnumber = 1\n",
    "\n",
    "# Dataframe\n",
    "df = fileToDframe(filename, footer, columns, sheetnumber)\n",
    "df.head() # View the 5 topmost rows of the parsed columns"
   ]
  },
  {
   "cell_type": "markdown",
   "metadata": {},
   "source": [
    "## Plotting setup\n"
   ]
  },
  {
   "cell_type": "markdown",
   "metadata": {},
   "source": [
    "We set the plotting parameters, establishing which column to put on which axes when plotting. "
   ]
  },
  {
   "cell_type": "code",
   "execution_count": 91,
   "metadata": {},
   "outputs": [
    {
     "data": {
      "image/png": "[encoded data removed]",
      "text/plain": [
       "<matplotlib.figure.Figure at 0x137a2e80>"
      ]
     },
     "metadata": {},
     "output_type": "display_data"
    },
    {
     "data": {
      "text/plain": [
       "(<matplotlib.axes._subplots.AxesSubplot at 0x143d4400>,\n",
       " <matplotlib.figure.Figure at 0x137a2e80>)"
      ]
     },
     "execution_count": 91,
     "metadata": {},
     "output_type": "execute_result"
    }
   ],
   "source": [
    "# Plotting parameters\n",
    "y_list = ['Precipitation']\n",
    "y1label = 'mm' #Optional additional labelling for 1. y-axis\n",
    "sec_y = 'Temperature' #Set which of the parsed columns, if any, to plot on secondary y-axis. Default is None\n",
    "y2label = 'C' #Optional additional labelling for 2. y-axis\n",
    "title = 'Climate Data'\n",
    "graph_type = '.'\n",
    "size = (16,8) #Figure size in inches\n",
    "style = 'plain' #Optional parameter to set notation to scientific. Default is 'plain'\n",
    "\n",
    "\n",
    "# Plotted figure with returned axes\n",
    "plotDframe(df, y_list, graph_type, title, size, y1label, style, sec_y, y2label)"
   ]
  },
  {
   "cell_type": "markdown",
   "metadata": {},
   "source": [
    "# 2: Flow rate visualization"
   ]
  },
  {
   "cell_type": "markdown",
   "metadata": {},
   "source": [
    "## Parsing setup\n"
   ]
  },
  {
   "cell_type": "markdown",
   "metadata": {},
   "source": [
    "We set the relevant parsing parameters for the flow rates. Only need to parse once if all relevant columns are included."
   ]
  },
  {
   "cell_type": "code",
   "execution_count": 92,
   "metadata": {},
   "outputs": [
    {
     "data": {
      "text/html": [
       "<div>\n",
       "<style>\n",
       "    .dataframe thead tr:only-child th {\n",
       "        text-align: right;\n",
       "    }\n",
       "\n",
       "    .dataframe thead th {\n",
       "        text-align: left;\n",
       "    }\n",
       "\n",
       "    .dataframe tbody tr th {\n",
       "        vertical-align: top;\n",
       "    }\n",
       "</style>\n",
       "<table border=\"1\" class=\"dataframe\">\n",
       "  <thead>\n",
       "    <tr style=\"text-align: right;\">\n",
       "      <th></th>\n",
       "      <th>Date</th>\n",
       "      <th>Qinf_total</th>\n",
       "      <th>Qinf</th>\n",
       "      <th>Q_effluent</th>\n",
       "      <th>Fe_doseA</th>\n",
       "    </tr>\n",
       "  </thead>\n",
       "  <tbody>\n",
       "    <tr>\n",
       "      <th>0</th>\n",
       "      <td>2013-10-01</td>\n",
       "      <td>229042.0</td>\n",
       "      <td>51742.0</td>\n",
       "      <td>230691.600</td>\n",
       "      <td>7.0</td>\n",
       "    </tr>\n",
       "    <tr>\n",
       "      <th>1</th>\n",
       "      <td>2013-10-02</td>\n",
       "      <td>226633.0</td>\n",
       "      <td>50233.0</td>\n",
       "      <td>228241.750</td>\n",
       "      <td>8.0</td>\n",
       "    </tr>\n",
       "    <tr>\n",
       "      <th>2</th>\n",
       "      <td>2013-10-03</td>\n",
       "      <td>228000.0</td>\n",
       "      <td>49400.0</td>\n",
       "      <td>229808.865</td>\n",
       "      <td>3.0</td>\n",
       "    </tr>\n",
       "    <tr>\n",
       "      <th>3</th>\n",
       "      <td>2013-10-04</td>\n",
       "      <td>236350.0</td>\n",
       "      <td>83800.0</td>\n",
       "      <td>238162.340</td>\n",
       "      <td>13.0</td>\n",
       "    </tr>\n",
       "    <tr>\n",
       "      <th>4</th>\n",
       "      <td>2013-10-05</td>\n",
       "      <td>232750.0</td>\n",
       "      <td>76500.0</td>\n",
       "      <td>234888.415</td>\n",
       "      <td>9.0</td>\n",
       "    </tr>\n",
       "  </tbody>\n",
       "</table>\n",
       "</div>"
      ],
      "text/plain": [
       "        Date  Qinf_total     Qinf  Q_effluent  Fe_doseA\n",
       "0 2013-10-01    229042.0  51742.0  230691.600       7.0\n",
       "1 2013-10-02    226633.0  50233.0  228241.750       8.0\n",
       "2 2013-10-03    228000.0  49400.0  229808.865       3.0\n",
       "3 2013-10-04    236350.0  83800.0  238162.340      13.0\n",
       "4 2013-10-05    232750.0  76500.0  234888.415       9.0"
      ]
     },
     "execution_count": 92,
     "metadata": {},
     "output_type": "execute_result"
    }
   ],
   "source": [
    "# Parameters\n",
    "footer = 0\n",
    "columns = [0,4,6,42,79] # 4=Qinf_total, 6=Qinf, 42=Q_effluent, 79=Fe_doseA\n",
    "sheetnumber = 1\n",
    "\n",
    "# Dataframe\n",
    "df = fileToDframe(filename, footer, columns, sheetnumber)\n",
    "df.head()"
   ]
  },
  {
   "cell_type": "markdown",
   "metadata": {},
   "source": [
    "## Plotting setup\n"
   ]
  },
  {
   "cell_type": "markdown",
   "metadata": {},
   "source": [
    "Initially, we plot all the parsed columns to see how the graph looks."
   ]
  },
  {
   "cell_type": "code",
   "execution_count": 93,
   "metadata": {},
   "outputs": [
    {
     "data": {
      "image/png": "[encoded data removed]",
      "text/plain": [
       "<matplotlib.figure.Figure at 0x13585630>"
      ]
     },
     "metadata": {},
     "output_type": "display_data"
    },
    {
     "data": {
      "text/plain": [
       "(<matplotlib.axes._subplots.AxesSubplot at 0x129f1208>,\n",
       " <matplotlib.figure.Figure at 0x13585630>)"
      ]
     },
     "execution_count": 93,
     "metadata": {},
     "output_type": "execute_result"
    }
   ],
   "source": [
    "# Plotting parameters\n",
    "y_list = ['Qinf_total','Qinf','Q_effluent']\n",
    "y1label = 'm3'\n",
    "sec_y = 'Fe_doseA'\n",
    "y2label = 'm3'\n",
    "title = 'Flow Rate Data'\n",
    "graph_type = '.'\n",
    "size = (16,8)\n",
    "style = 'sci'\n",
    "\n",
    "# Plot figure\n",
    "plotDframe(df, y_list, graph_type, title, size, y1label, style, sec_y, y2label)"
   ]
  },
  {
   "cell_type": "markdown",
   "metadata": {
    "collapsed": true
   },
   "source": [
    "This graph looks cluttered. The plots needs to be separated for clarity."
   ]
  },
  {
   "cell_type": "markdown",
   "metadata": {},
   "source": [
    "## 2.1 Plotting setup for inflow and iron-dosing"
   ]
  },
  {
   "cell_type": "code",
   "execution_count": 94,
   "metadata": {
    "scrolled": false
   },
   "outputs": [
    {
     "data": {
      "image/png": "[encoded data removed]",
      "text/plain": [
       "<matplotlib.figure.Figure at 0x1491ccf8>"
      ]
     },
     "metadata": {},
     "output_type": "display_data"
    },
    {
     "data": {
      "text/plain": [
       "(<matplotlib.axes._subplots.AxesSubplot at 0x1351e390>,\n",
       " <matplotlib.figure.Figure at 0x1491ccf8>)"
      ]
     },
     "execution_count": 94,
     "metadata": {},
     "output_type": "execute_result"
    }
   ],
   "source": [
    "# Plotting parameters\n",
    "y_list = ['Qinf']\n",
    "y1label = 'm3'\n",
    "sec_y = 'Fe_doseA'\n",
    "y2label = 'm3'\n",
    "title = 'Inflow'\n",
    "graph_type = '.'\n",
    "size = (16, 8)\n",
    "\n",
    "# Plot figure\n",
    "plotDframe(df, y_list, graph_type, title, size, y1label, style, sec_y, y2label)\n"
   ]
  },
  {
   "cell_type": "markdown",
   "metadata": {},
   "source": [
    "## 2.2 Plotting setup for total inflow"
   ]
  },
  {
   "cell_type": "code",
   "execution_count": 95,
   "metadata": {},
   "outputs": [
    {
     "data": {
      "image/png": "[encoded data removed]",
      "text/plain": [
       "<matplotlib.figure.Figure at 0x1491c4a8>"
      ]
     },
     "metadata": {},
     "output_type": "display_data"
    },
    {
     "data": {
      "text/plain": [
       "(<matplotlib.axes._subplots.AxesSubplot at 0x148f8da0>,\n",
       " <matplotlib.figure.Figure at 0x1491c4a8>)"
      ]
     },
     "execution_count": 95,
     "metadata": {},
     "output_type": "execute_result"
    }
   ],
   "source": [
    "# Plotting parameters\n",
    "y_list = ['Qinf_total']\n",
    "y1label = 'm3'\n",
    "title = 'Inflow'\n",
    "graph_type = '.'\n",
    "size = (16, 8)\n",
    "\n",
    "# Plot figure\n",
    "plotDframe(df, y_list, graph_type, title, size, y1label)"
   ]
  },
  {
   "cell_type": "markdown",
   "metadata": {},
   "source": [
    "## 2.3 Plotting setup for effluent"
   ]
  },
  {
   "cell_type": "code",
   "execution_count": 96,
   "metadata": {},
   "outputs": [
    {
     "data": {
      "image/png": "[encoded data removed]",
      "text/plain": [
       "<matplotlib.figure.Figure at 0x14f9c6a0>"
      ]
     },
     "metadata": {},
     "output_type": "display_data"
    },
    {
     "data": {
      "text/plain": [
       "(<matplotlib.axes._subplots.AxesSubplot at 0x137cb9b0>,\n",
       " <matplotlib.figure.Figure at 0x14f9c6a0>)"
      ]
     },
     "execution_count": 96,
     "metadata": {},
     "output_type": "execute_result"
    }
   ],
   "source": [
    "# Plotting parameters\n",
    "y_list = ['Q_effluent']\n",
    "y1label = 'm3'\n",
    "title = 'Effluent'\n",
    "graph_type = '.'\n",
    "size = (16,8)\n",
    "style = 'sci'\n",
    "\n",
    "# Plot figure\n",
    "plotDframe(df, y_list, graph_type, title, size, y1label, style)"
   ]
  },
  {
   "cell_type": "markdown",
   "metadata": {},
   "source": [
    "# 3: Influent characteristics visualization"
   ]
  },
  {
   "cell_type": "markdown",
   "metadata": {},
   "source": [
    "## Parsing setup"
   ]
  },
  {
   "cell_type": "code",
   "execution_count": 97,
   "metadata": {},
   "outputs": [
    {
     "data": {
      "text/html": [
       "<div>\n",
       "<style>\n",
       "    .dataframe thead tr:only-child th {\n",
       "        text-align: right;\n",
       "    }\n",
       "\n",
       "    .dataframe thead th {\n",
       "        text-align: left;\n",
       "    }\n",
       "\n",
       "    .dataframe tbody tr th {\n",
       "        vertical-align: top;\n",
       "    }\n",
       "</style>\n",
       "<table border=\"1\" class=\"dataframe\">\n",
       "  <thead>\n",
       "    <tr style=\"text-align: right;\">\n",
       "      <th></th>\n",
       "      <th>Date</th>\n",
       "      <th>COD</th>\n",
       "      <th>BOD</th>\n",
       "      <th>TSS</th>\n",
       "    </tr>\n",
       "  </thead>\n",
       "  <tbody>\n",
       "    <tr>\n",
       "      <th>0</th>\n",
       "      <td>2013-10-01</td>\n",
       "      <td>NaN</td>\n",
       "      <td>NaN</td>\n",
       "      <td>NaN</td>\n",
       "    </tr>\n",
       "    <tr>\n",
       "      <th>1</th>\n",
       "      <td>2013-10-02</td>\n",
       "      <td>NaN</td>\n",
       "      <td>NaN</td>\n",
       "      <td>NaN</td>\n",
       "    </tr>\n",
       "    <tr>\n",
       "      <th>2</th>\n",
       "      <td>2013-10-03</td>\n",
       "      <td>NaN</td>\n",
       "      <td>NaN</td>\n",
       "      <td>NaN</td>\n",
       "    </tr>\n",
       "    <tr>\n",
       "      <th>3</th>\n",
       "      <td>2013-10-04</td>\n",
       "      <td>NaN</td>\n",
       "      <td>NaN</td>\n",
       "      <td>NaN</td>\n",
       "    </tr>\n",
       "    <tr>\n",
       "      <th>4</th>\n",
       "      <td>2013-10-05</td>\n",
       "      <td>411.0</td>\n",
       "      <td>187.0</td>\n",
       "      <td>265.0</td>\n",
       "    </tr>\n",
       "  </tbody>\n",
       "</table>\n",
       "</div>"
      ],
      "text/plain": [
       "        Date    COD    BOD    TSS\n",
       "0 2013-10-01    NaN    NaN    NaN\n",
       "1 2013-10-02    NaN    NaN    NaN\n",
       "2 2013-10-03    NaN    NaN    NaN\n",
       "3 2013-10-04    NaN    NaN    NaN\n",
       "4 2013-10-05  411.0  187.0  265.0"
      ]
     },
     "execution_count": 97,
     "metadata": {},
     "output_type": "execute_result"
    }
   ],
   "source": [
    "# Parsing parameters\n",
    "footer = 0\n",
    "columns = [0, 7, 8, 11]\n",
    "sheetnumber = 1\n",
    "\n",
    "# Dataframe\n",
    "df = fileToDframe(filename, footer, columns, sheetnumber)\n",
    "df.head()"
   ]
  },
  {
   "cell_type": "markdown",
   "metadata": {},
   "source": [
    "## Plotting setup"
   ]
  },
  {
   "cell_type": "code",
   "execution_count": 98,
   "metadata": {},
   "outputs": [
    {
     "data": {
      "image/png": "[encoded data removed]",
      "text/plain": [
       "<matplotlib.figure.Figure at 0x137b8630>"
      ]
     },
     "metadata": {},
     "output_type": "display_data"
    },
    {
     "data": {
      "text/plain": [
       "(<matplotlib.axes._subplots.AxesSubplot at 0xfd4bcf8>,\n",
       " <matplotlib.figure.Figure at 0x137b8630>)"
      ]
     },
     "execution_count": 98,
     "metadata": {},
     "output_type": "execute_result"
    }
   ],
   "source": [
    "# Plotting parameters\n",
    "y_list = ['COD','BOD','TSS']\n",
    "y1label = 'mg/L'\n",
    "title = \"Influent Characteristics\"\n",
    "graph_type = '.'\n",
    "size = (16,8)\n",
    "\n",
    "# Plot figure\n",
    "plotDframe(df, y_list, graph_type, title, size, y1label)"
   ]
  },
  {
   "cell_type": "markdown",
   "metadata": {},
   "source": [
    "# 4: Influent and effluent recycling characteristics"
   ]
  },
  {
   "cell_type": "markdown",
   "metadata": {},
   "source": [
    "## Parsing setup"
   ]
  },
  {
   "cell_type": "code",
   "execution_count": 99,
   "metadata": {},
   "outputs": [
    {
     "data": {
      "text/html": [
       "<div>\n",
       "<style>\n",
       "    .dataframe thead tr:only-child th {\n",
       "        text-align: right;\n",
       "    }\n",
       "\n",
       "    .dataframe thead th {\n",
       "        text-align: left;\n",
       "    }\n",
       "\n",
       "    .dataframe tbody tr th {\n",
       "        vertical-align: top;\n",
       "    }\n",
       "</style>\n",
       "<table border=\"1\" class=\"dataframe\">\n",
       "  <thead>\n",
       "    <tr style=\"text-align: right;\">\n",
       "      <th></th>\n",
       "      <th>Date</th>\n",
       "      <th>COD</th>\n",
       "      <th>BOD</th>\n",
       "      <th>TSS</th>\n",
       "    </tr>\n",
       "  </thead>\n",
       "  <tbody>\n",
       "    <tr>\n",
       "      <th>0</th>\n",
       "      <td>2013-10-01</td>\n",
       "      <td>NaN</td>\n",
       "      <td>NaN</td>\n",
       "      <td>NaN</td>\n",
       "    </tr>\n",
       "    <tr>\n",
       "      <th>1</th>\n",
       "      <td>2013-10-02</td>\n",
       "      <td>NaN</td>\n",
       "      <td>NaN</td>\n",
       "      <td>NaN</td>\n",
       "    </tr>\n",
       "    <tr>\n",
       "      <th>2</th>\n",
       "      <td>2013-10-03</td>\n",
       "      <td>NaN</td>\n",
       "      <td>NaN</td>\n",
       "      <td>NaN</td>\n",
       "    </tr>\n",
       "    <tr>\n",
       "      <th>3</th>\n",
       "      <td>2013-10-04</td>\n",
       "      <td>NaN</td>\n",
       "      <td>NaN</td>\n",
       "      <td>NaN</td>\n",
       "    </tr>\n",
       "    <tr>\n",
       "      <th>4</th>\n",
       "      <td>2013-10-05</td>\n",
       "      <td>160.0</td>\n",
       "      <td>64.0</td>\n",
       "      <td>93.0</td>\n",
       "    </tr>\n",
       "  </tbody>\n",
       "</table>\n",
       "</div>"
      ],
      "text/plain": [
       "        Date    COD   BOD   TSS\n",
       "0 2013-10-01    NaN   NaN   NaN\n",
       "1 2013-10-02    NaN   NaN   NaN\n",
       "2 2013-10-03    NaN   NaN   NaN\n",
       "3 2013-10-04    NaN   NaN   NaN\n",
       "4 2013-10-05  160.0  64.0  93.0"
      ]
     },
     "execution_count": 99,
     "metadata": {},
     "output_type": "execute_result"
    }
   ],
   "source": [
    "# Parsing parameters\n",
    "footer = 0\n",
    "columns = [0, 15, 16, 19]\n",
    "sheetnumber = 1\n",
    "\n",
    "# Dataframe\n",
    "df = fileToDframe(filename, footer, columns, sheetnumber)\n",
    "df.head()"
   ]
  },
  {
   "cell_type": "markdown",
   "metadata": {},
   "source": [
    "## Plotting setup\n"
   ]
  },
  {
   "cell_type": "code",
   "execution_count": 100,
   "metadata": {},
   "outputs": [
    {
     "data": {
      "image/png": "[encoded data removed]",
      "text/plain": [
       "<matplotlib.figure.Figure at 0x137a23c8>"
      ]
     },
     "metadata": {},
     "output_type": "display_data"
    },
    {
     "data": {
      "text/plain": [
       "(<matplotlib.axes._subplots.AxesSubplot at 0x137a2d30>,\n",
       " <matplotlib.figure.Figure at 0x137a23c8>)"
      ]
     },
     "execution_count": 100,
     "metadata": {},
     "output_type": "execute_result"
    }
   ],
   "source": [
    "# Plotting parameters\n",
    "y_list = ['COD','BOD','TSS']\n",
    "y1label = 'mg/L'\n",
    "title = 'Influent and effluent recycling characterstics'\n",
    "graph_type = '.'\n",
    "size = (16,8)\n",
    "\n",
    "# Plot figure\n",
    "plotDframe(df, y_list, graph_type, title, size, y1label)"
   ]
  },
  {
   "cell_type": "markdown",
   "metadata": {},
   "source": [
    "# 5: A-stage bioreactor data visualization"
   ]
  },
  {
   "cell_type": "markdown",
   "metadata": {},
   "source": [
    "## Parsing setup"
   ]
  },
  {
   "cell_type": "code",
   "execution_count": 105,
   "metadata": {},
   "outputs": [
    {
     "data": {
      "text/html": [
       "<div>\n",
       "<style>\n",
       "    .dataframe thead tr:only-child th {\n",
       "        text-align: right;\n",
       "    }\n",
       "\n",
       "    .dataframe thead th {\n",
       "        text-align: left;\n",
       "    }\n",
       "\n",
       "    .dataframe tbody tr th {\n",
       "        vertical-align: top;\n",
       "    }\n",
       "</style>\n",
       "<table border=\"1\" class=\"dataframe\">\n",
       "  <thead>\n",
       "    <tr style=\"text-align: right;\">\n",
       "      <th></th>\n",
       "      <th>Date</th>\n",
       "      <th>TSS</th>\n",
       "      <th>SRT</th>\n",
       "      <th>HRT</th>\n",
       "    </tr>\n",
       "  </thead>\n",
       "  <tbody>\n",
       "    <tr>\n",
       "      <th>0</th>\n",
       "      <td>2013-10-01 00:00:00</td>\n",
       "      <td>NaN</td>\n",
       "      <td>NaN</td>\n",
       "      <td>0.015093</td>\n",
       "    </tr>\n",
       "    <tr>\n",
       "      <th>1</th>\n",
       "      <td>2013-10-02 00:00:00</td>\n",
       "      <td>NaN</td>\n",
       "      <td>NaN</td>\n",
       "      <td>0.015255</td>\n",
       "    </tr>\n",
       "    <tr>\n",
       "      <th>2</th>\n",
       "      <td>2013-10-03 00:00:00</td>\n",
       "      <td>3276.0</td>\n",
       "      <td>NaN</td>\n",
       "      <td>0.015135</td>\n",
       "    </tr>\n",
       "    <tr>\n",
       "      <th>3</th>\n",
       "      <td>2013-10-04 00:00:00</td>\n",
       "      <td>NaN</td>\n",
       "      <td>NaN</td>\n",
       "      <td>0.014593</td>\n",
       "    </tr>\n",
       "    <tr>\n",
       "      <th>4</th>\n",
       "      <td>2013-10-05 00:00:00</td>\n",
       "      <td>NaN</td>\n",
       "      <td>0.344328</td>\n",
       "      <td>0.014755</td>\n",
       "    </tr>\n",
       "  </tbody>\n",
       "</table>\n",
       "</div>"
      ],
      "text/plain": [
       "                  Date     TSS       SRT       HRT\n",
       "0  2013-10-01 00:00:00     NaN       NaN  0.015093\n",
       "1  2013-10-02 00:00:00     NaN       NaN  0.015255\n",
       "2  2013-10-03 00:00:00  3276.0       NaN  0.015135\n",
       "3  2013-10-04 00:00:00     NaN       NaN  0.014593\n",
       "4  2013-10-05 00:00:00     NaN  0.344328  0.014755"
      ]
     },
     "execution_count": 105,
     "metadata": {},
     "output_type": "execute_result"
    }
   ],
   "source": [
    "# Parsing parameters\n",
    "footer = 0\n",
    "columns = [0, 4, 23, 25]\n",
    "sheetnumber = 3\n",
    "\n",
    "# Dataframe\n",
    "df = fileToDframe(filename, footer, columns, sheetnumber)\n",
    "df.head()"
   ]
  },
  {
   "cell_type": "markdown",
   "metadata": {},
   "source": [
    "## 5.1 Plotting setup for SRT an HRT"
   ]
  },
  {
   "cell_type": "code",
   "execution_count": 104,
   "metadata": {},
   "outputs": [
    {
     "ename": "AttributeError",
     "evalue": "'datetime.time' object has no attribute 'toordinal'",
     "output_type": "error",
     "traceback": [
      "\u001b[1;31m\u001b[0m",
      "\u001b[1;31mAttributeError\u001b[0mTraceback (most recent call last)",
      "\u001b[1;32m<ipython-input-104-ff270d46446c>\u001b[0m in \u001b[0;36m<module>\u001b[1;34m()\u001b[0m\n\u001b[0;32m      7\u001b[0m \u001b[1;33m\u001b[0m\u001b[0m\n\u001b[0;32m      8\u001b[0m \u001b[1;31m# Plot figure\u001b[0m\u001b[1;33m\u001b[0m\u001b[1;33m\u001b[0m\u001b[0m\n\u001b[1;32m----> 9\u001b[1;33m \u001b[0mplotDframe\u001b[0m\u001b[1;33m(\u001b[0m\u001b[0mdf\u001b[0m\u001b[1;33m,\u001b[0m \u001b[0my_list\u001b[0m\u001b[1;33m,\u001b[0m \u001b[0mgraph_type\u001b[0m\u001b[1;33m,\u001b[0m \u001b[0mtitle\u001b[0m\u001b[1;33m,\u001b[0m \u001b[0msize\u001b[0m\u001b[1;33m,\u001b[0m \u001b[0my1label\u001b[0m\u001b[1;33m)\u001b[0m\u001b[1;33m\u001b[0m\u001b[0m\n\u001b[0m",
      "\u001b[1;32mC:\\Users\\jonekb13\\Documents\\Biomath\\intern_ugent\\excelparse.py\u001b[0m in \u001b[0;36mplotDframe\u001b[1;34m(dframe, y_list, graph_type, title, size, y1label, style, sec_y, y2label)\u001b[0m\n\u001b[0;32m    103\u001b[0m     \u001b[1;32melif\u001b[0m \u001b[0mlen\u001b[0m\u001b[1;33m(\u001b[0m\u001b[0my_list\u001b[0m\u001b[1;33m)\u001b[0m \u001b[1;33m>\u001b[0m \u001b[1;36m1\u001b[0m\u001b[1;33m:\u001b[0m\u001b[1;33m\u001b[0m\u001b[0m\n\u001b[0;32m    104\u001b[0m         \u001b[1;32mfor\u001b[0m \u001b[0mi\u001b[0m \u001b[1;32min\u001b[0m \u001b[0my_list\u001b[0m\u001b[1;33m:\u001b[0m\u001b[1;33m\u001b[0m\u001b[0m\n\u001b[1;32m--> 105\u001b[1;33m             \u001b[0mpplot\u001b[0m\u001b[1;33m,\u001b[0m \u001b[1;33m=\u001b[0m \u001b[0max\u001b[0m\u001b[1;33m.\u001b[0m\u001b[0mplot\u001b[0m\u001b[1;33m(\u001b[0m\u001b[0mdframe\u001b[0m\u001b[1;33m[\u001b[0m\u001b[1;34m'Date'\u001b[0m\u001b[1;33m]\u001b[0m\u001b[1;33m,\u001b[0m \u001b[0mdframe\u001b[0m\u001b[1;33m[\u001b[0m\u001b[0mi\u001b[0m\u001b[1;33m]\u001b[0m\u001b[1;33m,\u001b[0m \u001b[0mgraph_type\u001b[0m\u001b[1;33m,\u001b[0m \u001b[0mcolor\u001b[0m\u001b[1;33m=\u001b[0m\u001b[0mcolors\u001b[0m\u001b[1;33m[\u001b[0m\u001b[0mj\u001b[0m\u001b[1;33m]\u001b[0m\u001b[1;33m)\u001b[0m\u001b[1;33m\u001b[0m\u001b[0m\n\u001b[0m\u001b[0;32m    106\u001b[0m             \u001b[0mj\u001b[0m \u001b[1;33m+=\u001b[0m \u001b[1;36m1\u001b[0m\u001b[1;33m\u001b[0m\u001b[0m\n\u001b[0;32m    107\u001b[0m             \u001b[0mlabels\u001b[0m\u001b[1;33m+=\u001b[0m\u001b[0mstr\u001b[0m\u001b[1;33m(\u001b[0m\u001b[0mi\u001b[0m\u001b[1;33m)\u001b[0m\u001b[1;33m+\u001b[0m\u001b[1;34m', '\u001b[0m\u001b[1;33m\u001b[0m\u001b[0m\n",
      "\u001b[1;32mC:\\Users\\jonekb13\\Anaconda2\\lib\\site-packages\\matplotlib\\__init__.pyc\u001b[0m in \u001b[0;36minner\u001b[1;34m(ax, *args, **kwargs)\u001b[0m\n\u001b[0;32m   1895\u001b[0m                     warnings.warn(msg % (label_namer, func.__name__),\n\u001b[0;32m   1896\u001b[0m                                   RuntimeWarning, stacklevel=2)\n\u001b[1;32m-> 1897\u001b[1;33m             \u001b[1;32mreturn\u001b[0m \u001b[0mfunc\u001b[0m\u001b[1;33m(\u001b[0m\u001b[0max\u001b[0m\u001b[1;33m,\u001b[0m \u001b[1;33m*\u001b[0m\u001b[0margs\u001b[0m\u001b[1;33m,\u001b[0m \u001b[1;33m**\u001b[0m\u001b[0mkwargs\u001b[0m\u001b[1;33m)\u001b[0m\u001b[1;33m\u001b[0m\u001b[0m\n\u001b[0m\u001b[0;32m   1898\u001b[0m         \u001b[0mpre_doc\u001b[0m \u001b[1;33m=\u001b[0m \u001b[0minner\u001b[0m\u001b[1;33m.\u001b[0m\u001b[0m__doc__\u001b[0m\u001b[1;33m\u001b[0m\u001b[0m\n\u001b[0;32m   1899\u001b[0m         \u001b[1;32mif\u001b[0m \u001b[0mpre_doc\u001b[0m \u001b[1;32mis\u001b[0m \u001b[0mNone\u001b[0m\u001b[1;33m:\u001b[0m\u001b[1;33m\u001b[0m\u001b[0m\n",
      "\u001b[1;32mC:\\Users\\jonekb13\\Anaconda2\\lib\\site-packages\\matplotlib\\axes\\_axes.pyc\u001b[0m in \u001b[0;36mplot\u001b[1;34m(self, *args, **kwargs)\u001b[0m\n\u001b[0;32m   1405\u001b[0m \u001b[1;33m\u001b[0m\u001b[0m\n\u001b[0;32m   1406\u001b[0m         \u001b[1;32mfor\u001b[0m \u001b[0mline\u001b[0m \u001b[1;32min\u001b[0m \u001b[0mself\u001b[0m\u001b[1;33m.\u001b[0m\u001b[0m_get_lines\u001b[0m\u001b[1;33m(\u001b[0m\u001b[1;33m*\u001b[0m\u001b[0margs\u001b[0m\u001b[1;33m,\u001b[0m \u001b[1;33m**\u001b[0m\u001b[0mkwargs\u001b[0m\u001b[1;33m)\u001b[0m\u001b[1;33m:\u001b[0m\u001b[1;33m\u001b[0m\u001b[0m\n\u001b[1;32m-> 1407\u001b[1;33m             \u001b[0mself\u001b[0m\u001b[1;33m.\u001b[0m\u001b[0madd_line\u001b[0m\u001b[1;33m(\u001b[0m\u001b[0mline\u001b[0m\u001b[1;33m)\u001b[0m\u001b[1;33m\u001b[0m\u001b[0m\n\u001b[0m\u001b[0;32m   1408\u001b[0m             \u001b[0mlines\u001b[0m\u001b[1;33m.\u001b[0m\u001b[0mappend\u001b[0m\u001b[1;33m(\u001b[0m\u001b[0mline\u001b[0m\u001b[1;33m)\u001b[0m\u001b[1;33m\u001b[0m\u001b[0m\n\u001b[0;32m   1409\u001b[0m \u001b[1;33m\u001b[0m\u001b[0m\n",
      "\u001b[1;32mC:\\Users\\jonekb13\\Anaconda2\\lib\\site-packages\\matplotlib\\axes\\_base.pyc\u001b[0m in \u001b[0;36madd_line\u001b[1;34m(self, line)\u001b[0m\n\u001b[0;32m   1791\u001b[0m             \u001b[0mline\u001b[0m\u001b[1;33m.\u001b[0m\u001b[0mset_clip_path\u001b[0m\u001b[1;33m(\u001b[0m\u001b[0mself\u001b[0m\u001b[1;33m.\u001b[0m\u001b[0mpatch\u001b[0m\u001b[1;33m)\u001b[0m\u001b[1;33m\u001b[0m\u001b[0m\n\u001b[0;32m   1792\u001b[0m \u001b[1;33m\u001b[0m\u001b[0m\n\u001b[1;32m-> 1793\u001b[1;33m         \u001b[0mself\u001b[0m\u001b[1;33m.\u001b[0m\u001b[0m_update_line_limits\u001b[0m\u001b[1;33m(\u001b[0m\u001b[0mline\u001b[0m\u001b[1;33m)\u001b[0m\u001b[1;33m\u001b[0m\u001b[0m\n\u001b[0m\u001b[0;32m   1794\u001b[0m         \u001b[1;32mif\u001b[0m \u001b[1;32mnot\u001b[0m \u001b[0mline\u001b[0m\u001b[1;33m.\u001b[0m\u001b[0mget_label\u001b[0m\u001b[1;33m(\u001b[0m\u001b[1;33m)\u001b[0m\u001b[1;33m:\u001b[0m\u001b[1;33m\u001b[0m\u001b[0m\n\u001b[0;32m   1795\u001b[0m             \u001b[0mline\u001b[0m\u001b[1;33m.\u001b[0m\u001b[0mset_label\u001b[0m\u001b[1;33m(\u001b[0m\u001b[1;34m'_line%d'\u001b[0m \u001b[1;33m%\u001b[0m \u001b[0mlen\u001b[0m\u001b[1;33m(\u001b[0m\u001b[0mself\u001b[0m\u001b[1;33m.\u001b[0m\u001b[0mlines\u001b[0m\u001b[1;33m)\u001b[0m\u001b[1;33m)\u001b[0m\u001b[1;33m\u001b[0m\u001b[0m\n",
      "\u001b[1;32mC:\\Users\\jonekb13\\Anaconda2\\lib\\site-packages\\matplotlib\\axes\\_base.pyc\u001b[0m in \u001b[0;36m_update_line_limits\u001b[1;34m(self, line)\u001b[0m\n\u001b[0;32m   1813\u001b[0m         \u001b[0mFigures\u001b[0m \u001b[0mout\u001b[0m \u001b[0mthe\u001b[0m \u001b[0mdata\u001b[0m \u001b[0mlimit\u001b[0m \u001b[0mof\u001b[0m \u001b[0mthe\u001b[0m \u001b[0mgiven\u001b[0m \u001b[0mline\u001b[0m\u001b[1;33m,\u001b[0m \u001b[0mupdating\u001b[0m \u001b[0mself\u001b[0m\u001b[1;33m.\u001b[0m\u001b[0mdataLim\u001b[0m\u001b[1;33m.\u001b[0m\u001b[1;33m\u001b[0m\u001b[0m\n\u001b[0;32m   1814\u001b[0m         \"\"\"\n\u001b[1;32m-> 1815\u001b[1;33m         \u001b[0mpath\u001b[0m \u001b[1;33m=\u001b[0m \u001b[0mline\u001b[0m\u001b[1;33m.\u001b[0m\u001b[0mget_path\u001b[0m\u001b[1;33m(\u001b[0m\u001b[1;33m)\u001b[0m\u001b[1;33m\u001b[0m\u001b[0m\n\u001b[0m\u001b[0;32m   1816\u001b[0m         \u001b[1;32mif\u001b[0m \u001b[0mpath\u001b[0m\u001b[1;33m.\u001b[0m\u001b[0mvertices\u001b[0m\u001b[1;33m.\u001b[0m\u001b[0msize\u001b[0m \u001b[1;33m==\u001b[0m \u001b[1;36m0\u001b[0m\u001b[1;33m:\u001b[0m\u001b[1;33m\u001b[0m\u001b[0m\n\u001b[0;32m   1817\u001b[0m             \u001b[1;32mreturn\u001b[0m\u001b[1;33m\u001b[0m\u001b[0m\n",
      "\u001b[1;32mC:\\Users\\jonekb13\\Anaconda2\\lib\\site-packages\\matplotlib\\lines.pyc\u001b[0m in \u001b[0;36mget_path\u001b[1;34m(self)\u001b[0m\n\u001b[0;32m    987\u001b[0m         \"\"\"\n\u001b[0;32m    988\u001b[0m         \u001b[1;32mif\u001b[0m \u001b[0mself\u001b[0m\u001b[1;33m.\u001b[0m\u001b[0m_invalidy\u001b[0m \u001b[1;32mor\u001b[0m \u001b[0mself\u001b[0m\u001b[1;33m.\u001b[0m\u001b[0m_invalidx\u001b[0m\u001b[1;33m:\u001b[0m\u001b[1;33m\u001b[0m\u001b[0m\n\u001b[1;32m--> 989\u001b[1;33m             \u001b[0mself\u001b[0m\u001b[1;33m.\u001b[0m\u001b[0mrecache\u001b[0m\u001b[1;33m(\u001b[0m\u001b[1;33m)\u001b[0m\u001b[1;33m\u001b[0m\u001b[0m\n\u001b[0m\u001b[0;32m    990\u001b[0m         \u001b[1;32mreturn\u001b[0m \u001b[0mself\u001b[0m\u001b[1;33m.\u001b[0m\u001b[0m_path\u001b[0m\u001b[1;33m\u001b[0m\u001b[0m\n\u001b[0;32m    991\u001b[0m \u001b[1;33m\u001b[0m\u001b[0m\n",
      "\u001b[1;32mC:\\Users\\jonekb13\\Anaconda2\\lib\\site-packages\\matplotlib\\lines.pyc\u001b[0m in \u001b[0;36mrecache\u001b[1;34m(self, always)\u001b[0m\n\u001b[0;32m    670\u001b[0m     \u001b[1;32mdef\u001b[0m \u001b[0mrecache\u001b[0m\u001b[1;33m(\u001b[0m\u001b[0mself\u001b[0m\u001b[1;33m,\u001b[0m \u001b[0malways\u001b[0m\u001b[1;33m=\u001b[0m\u001b[0mFalse\u001b[0m\u001b[1;33m)\u001b[0m\u001b[1;33m:\u001b[0m\u001b[1;33m\u001b[0m\u001b[0m\n\u001b[0;32m    671\u001b[0m         \u001b[1;32mif\u001b[0m \u001b[0malways\u001b[0m \u001b[1;32mor\u001b[0m \u001b[0mself\u001b[0m\u001b[1;33m.\u001b[0m\u001b[0m_invalidx\u001b[0m\u001b[1;33m:\u001b[0m\u001b[1;33m\u001b[0m\u001b[0m\n\u001b[1;32m--> 672\u001b[1;33m             \u001b[0mxconv\u001b[0m \u001b[1;33m=\u001b[0m \u001b[0mself\u001b[0m\u001b[1;33m.\u001b[0m\u001b[0mconvert_xunits\u001b[0m\u001b[1;33m(\u001b[0m\u001b[0mself\u001b[0m\u001b[1;33m.\u001b[0m\u001b[0m_xorig\u001b[0m\u001b[1;33m)\u001b[0m\u001b[1;33m\u001b[0m\u001b[0m\n\u001b[0m\u001b[0;32m    673\u001b[0m             \u001b[1;32mif\u001b[0m \u001b[0mma\u001b[0m\u001b[1;33m.\u001b[0m\u001b[0misMaskedArray\u001b[0m\u001b[1;33m(\u001b[0m\u001b[0mself\u001b[0m\u001b[1;33m.\u001b[0m\u001b[0m_xorig\u001b[0m\u001b[1;33m)\u001b[0m\u001b[1;33m:\u001b[0m\u001b[1;33m\u001b[0m\u001b[0m\n\u001b[0;32m    674\u001b[0m                 \u001b[0mx\u001b[0m \u001b[1;33m=\u001b[0m \u001b[0mma\u001b[0m\u001b[1;33m.\u001b[0m\u001b[0masarray\u001b[0m\u001b[1;33m(\u001b[0m\u001b[0mxconv\u001b[0m\u001b[1;33m,\u001b[0m \u001b[0mnp\u001b[0m\u001b[1;33m.\u001b[0m\u001b[0mfloat_\u001b[0m\u001b[1;33m)\u001b[0m\u001b[1;33m.\u001b[0m\u001b[0mfilled\u001b[0m\u001b[1;33m(\u001b[0m\u001b[0mnp\u001b[0m\u001b[1;33m.\u001b[0m\u001b[0mnan\u001b[0m\u001b[1;33m)\u001b[0m\u001b[1;33m\u001b[0m\u001b[0m\n",
      "\u001b[1;32mC:\\Users\\jonekb13\\Anaconda2\\lib\\site-packages\\matplotlib\\artist.pyc\u001b[0m in \u001b[0;36mconvert_xunits\u001b[1;34m(self, x)\u001b[0m\n\u001b[0;32m    197\u001b[0m         \u001b[1;32mif\u001b[0m \u001b[0max\u001b[0m \u001b[1;32mis\u001b[0m \u001b[0mNone\u001b[0m \u001b[1;32mor\u001b[0m \u001b[0max\u001b[0m\u001b[1;33m.\u001b[0m\u001b[0mxaxis\u001b[0m \u001b[1;32mis\u001b[0m \u001b[0mNone\u001b[0m\u001b[1;33m:\u001b[0m\u001b[1;33m\u001b[0m\u001b[0m\n\u001b[0;32m    198\u001b[0m             \u001b[1;32mreturn\u001b[0m \u001b[0mx\u001b[0m\u001b[1;33m\u001b[0m\u001b[0m\n\u001b[1;32m--> 199\u001b[1;33m         \u001b[1;32mreturn\u001b[0m \u001b[0max\u001b[0m\u001b[1;33m.\u001b[0m\u001b[0mxaxis\u001b[0m\u001b[1;33m.\u001b[0m\u001b[0mconvert_units\u001b[0m\u001b[1;33m(\u001b[0m\u001b[0mx\u001b[0m\u001b[1;33m)\u001b[0m\u001b[1;33m\u001b[0m\u001b[0m\n\u001b[0m\u001b[0;32m    200\u001b[0m \u001b[1;33m\u001b[0m\u001b[0m\n\u001b[0;32m    201\u001b[0m     \u001b[1;32mdef\u001b[0m \u001b[0mconvert_yunits\u001b[0m\u001b[1;33m(\u001b[0m\u001b[0mself\u001b[0m\u001b[1;33m,\u001b[0m \u001b[0my\u001b[0m\u001b[1;33m)\u001b[0m\u001b[1;33m:\u001b[0m\u001b[1;33m\u001b[0m\u001b[0m\n",
      "\u001b[1;32mC:\\Users\\jonekb13\\Anaconda2\\lib\\site-packages\\matplotlib\\axis.pyc\u001b[0m in \u001b[0;36mconvert_units\u001b[1;34m(self, x)\u001b[0m\n\u001b[0;32m   1470\u001b[0m             \u001b[1;32mreturn\u001b[0m \u001b[0mx\u001b[0m\u001b[1;33m\u001b[0m\u001b[0m\n\u001b[0;32m   1471\u001b[0m \u001b[1;33m\u001b[0m\u001b[0m\n\u001b[1;32m-> 1472\u001b[1;33m         \u001b[0mret\u001b[0m \u001b[1;33m=\u001b[0m \u001b[0mself\u001b[0m\u001b[1;33m.\u001b[0m\u001b[0mconverter\u001b[0m\u001b[1;33m.\u001b[0m\u001b[0mconvert\u001b[0m\u001b[1;33m(\u001b[0m\u001b[0mx\u001b[0m\u001b[1;33m,\u001b[0m \u001b[0mself\u001b[0m\u001b[1;33m.\u001b[0m\u001b[0munits\u001b[0m\u001b[1;33m,\u001b[0m \u001b[0mself\u001b[0m\u001b[1;33m)\u001b[0m\u001b[1;33m\u001b[0m\u001b[0m\n\u001b[0m\u001b[0;32m   1473\u001b[0m         \u001b[1;32mreturn\u001b[0m \u001b[0mret\u001b[0m\u001b[1;33m\u001b[0m\u001b[0m\n\u001b[0;32m   1474\u001b[0m \u001b[1;33m\u001b[0m\u001b[0m\n",
      "\u001b[1;32mC:\\Users\\jonekb13\\Anaconda2\\lib\\site-packages\\pandas\\plotting\\_converter.pyc\u001b[0m in \u001b[0;36mconvert\u001b[1;34m(values, unit, axis)\u001b[0m\n\u001b[0;32m    194\u001b[0m                       for v in values]\n\u001b[0;32m    195\u001b[0m         \u001b[1;32melse\u001b[0m\u001b[1;33m:\u001b[0m\u001b[1;33m\u001b[0m\u001b[0m\n\u001b[1;32m--> 196\u001b[1;33m             \u001b[0mvalues\u001b[0m \u001b[1;33m=\u001b[0m \u001b[0mDatetimeConverter\u001b[0m\u001b[1;33m.\u001b[0m\u001b[0m_convert_1d\u001b[0m\u001b[1;33m(\u001b[0m\u001b[0mvalues\u001b[0m\u001b[1;33m,\u001b[0m \u001b[0munit\u001b[0m\u001b[1;33m,\u001b[0m \u001b[0maxis\u001b[0m\u001b[1;33m)\u001b[0m\u001b[1;33m\u001b[0m\u001b[0m\n\u001b[0m\u001b[0;32m    197\u001b[0m         \u001b[1;32mreturn\u001b[0m \u001b[0mvalues\u001b[0m\u001b[1;33m\u001b[0m\u001b[0m\n\u001b[0;32m    198\u001b[0m \u001b[1;33m\u001b[0m\u001b[0m\n",
      "\u001b[1;32mC:\\Users\\jonekb13\\Anaconda2\\lib\\site-packages\\pandas\\plotting\\_converter.pyc\u001b[0m in \u001b[0;36m_convert_1d\u001b[1;34m(values, unit, axis)\u001b[0m\n\u001b[0;32m    231\u001b[0m                     \u001b[0mvalues\u001b[0m \u001b[1;33m=\u001b[0m \u001b[1;33m[\u001b[0m\u001b[0m_dt_to_float_ordinal\u001b[0m\u001b[1;33m(\u001b[0m\u001b[0mx\u001b[0m\u001b[1;33m)\u001b[0m \u001b[1;32mfor\u001b[0m \u001b[0mx\u001b[0m \u001b[1;32min\u001b[0m \u001b[0mvalues\u001b[0m\u001b[1;33m]\u001b[0m\u001b[1;33m\u001b[0m\u001b[0m\n\u001b[0;32m    232\u001b[0m             \u001b[1;32mexcept\u001b[0m \u001b[0mException\u001b[0m\u001b[1;33m:\u001b[0m\u001b[1;33m\u001b[0m\u001b[0m\n\u001b[1;32m--> 233\u001b[1;33m                 \u001b[0mvalues\u001b[0m \u001b[1;33m=\u001b[0m \u001b[0m_dt_to_float_ordinal\u001b[0m\u001b[1;33m(\u001b[0m\u001b[0mvalues\u001b[0m\u001b[1;33m)\u001b[0m\u001b[1;33m\u001b[0m\u001b[0m\n\u001b[0m\u001b[0;32m    234\u001b[0m \u001b[1;33m\u001b[0m\u001b[0m\n\u001b[0;32m    235\u001b[0m         \u001b[1;32mreturn\u001b[0m \u001b[0mvalues\u001b[0m\u001b[1;33m\u001b[0m\u001b[0m\n",
      "\u001b[1;32mC:\\Users\\jonekb13\\Anaconda2\\lib\\site-packages\\pandas\\plotting\\_converter.pyc\u001b[0m in \u001b[0;36m_dt_to_float_ordinal\u001b[1;34m(dt)\u001b[0m\n\u001b[0;32m    180\u001b[0m         \u001b[0mbase\u001b[0m \u001b[1;33m=\u001b[0m \u001b[0mdates\u001b[0m\u001b[1;33m.\u001b[0m\u001b[0mepoch2num\u001b[0m\u001b[1;33m(\u001b[0m\u001b[0mdt\u001b[0m\u001b[1;33m.\u001b[0m\u001b[0masi8\u001b[0m \u001b[1;33m/\u001b[0m \u001b[1;36m1.0E9\u001b[0m\u001b[1;33m)\u001b[0m\u001b[1;33m\u001b[0m\u001b[0m\n\u001b[0;32m    181\u001b[0m     \u001b[1;32melse\u001b[0m\u001b[1;33m:\u001b[0m\u001b[1;33m\u001b[0m\u001b[0m\n\u001b[1;32m--> 182\u001b[1;33m         \u001b[0mbase\u001b[0m \u001b[1;33m=\u001b[0m \u001b[0mdates\u001b[0m\u001b[1;33m.\u001b[0m\u001b[0mdate2num\u001b[0m\u001b[1;33m(\u001b[0m\u001b[0mdt\u001b[0m\u001b[1;33m)\u001b[0m\u001b[1;33m\u001b[0m\u001b[0m\n\u001b[0m\u001b[0;32m    183\u001b[0m     \u001b[1;32mreturn\u001b[0m \u001b[0mbase\u001b[0m\u001b[1;33m\u001b[0m\u001b[0m\n\u001b[0;32m    184\u001b[0m \u001b[1;33m\u001b[0m\u001b[0m\n",
      "\u001b[1;32mC:\\Users\\jonekb13\\Anaconda2\\lib\\site-packages\\matplotlib\\dates.pyc\u001b[0m in \u001b[0;36mdate2num\u001b[1;34m(d)\u001b[0m\n\u001b[0;32m    360\u001b[0m         \u001b[1;32mif\u001b[0m \u001b[1;32mnot\u001b[0m \u001b[0md\u001b[0m\u001b[1;33m.\u001b[0m\u001b[0msize\u001b[0m\u001b[1;33m:\u001b[0m\u001b[1;33m\u001b[0m\u001b[0m\n\u001b[0;32m    361\u001b[0m             \u001b[1;32mreturn\u001b[0m \u001b[0md\u001b[0m\u001b[1;33m\u001b[0m\u001b[0m\n\u001b[1;32m--> 362\u001b[1;33m         \u001b[1;32mreturn\u001b[0m \u001b[0m_to_ordinalf_np_vectorized\u001b[0m\u001b[1;33m(\u001b[0m\u001b[0md\u001b[0m\u001b[1;33m)\u001b[0m\u001b[1;33m\u001b[0m\u001b[0m\n\u001b[0m\u001b[0;32m    363\u001b[0m \u001b[1;33m\u001b[0m\u001b[0m\n\u001b[0;32m    364\u001b[0m \u001b[1;33m\u001b[0m\u001b[0m\n",
      "\u001b[1;32mC:\\Users\\jonekb13\\Anaconda2\\lib\\site-packages\\numpy\\lib\\function_base.pyc\u001b[0m in \u001b[0;36m__call__\u001b[1;34m(self, *args, **kwargs)\u001b[0m\n\u001b[0;32m   2732\u001b[0m             \u001b[0mvargs\u001b[0m\u001b[1;33m.\u001b[0m\u001b[0mextend\u001b[0m\u001b[1;33m(\u001b[0m\u001b[1;33m[\u001b[0m\u001b[0mkwargs\u001b[0m\u001b[1;33m[\u001b[0m\u001b[0m_n\u001b[0m\u001b[1;33m]\u001b[0m \u001b[1;32mfor\u001b[0m \u001b[0m_n\u001b[0m \u001b[1;32min\u001b[0m \u001b[0mnames\u001b[0m\u001b[1;33m]\u001b[0m\u001b[1;33m)\u001b[0m\u001b[1;33m\u001b[0m\u001b[0m\n\u001b[0;32m   2733\u001b[0m \u001b[1;33m\u001b[0m\u001b[0m\n\u001b[1;32m-> 2734\u001b[1;33m         \u001b[1;32mreturn\u001b[0m \u001b[0mself\u001b[0m\u001b[1;33m.\u001b[0m\u001b[0m_vectorize_call\u001b[0m\u001b[1;33m(\u001b[0m\u001b[0mfunc\u001b[0m\u001b[1;33m=\u001b[0m\u001b[0mfunc\u001b[0m\u001b[1;33m,\u001b[0m \u001b[0margs\u001b[0m\u001b[1;33m=\u001b[0m\u001b[0mvargs\u001b[0m\u001b[1;33m)\u001b[0m\u001b[1;33m\u001b[0m\u001b[0m\n\u001b[0m\u001b[0;32m   2735\u001b[0m \u001b[1;33m\u001b[0m\u001b[0m\n\u001b[0;32m   2736\u001b[0m     \u001b[1;32mdef\u001b[0m \u001b[0m_get_ufunc_and_otypes\u001b[0m\u001b[1;33m(\u001b[0m\u001b[0mself\u001b[0m\u001b[1;33m,\u001b[0m \u001b[0mfunc\u001b[0m\u001b[1;33m,\u001b[0m \u001b[0margs\u001b[0m\u001b[1;33m)\u001b[0m\u001b[1;33m:\u001b[0m\u001b[1;33m\u001b[0m\u001b[0m\n",
      "\u001b[1;32mC:\\Users\\jonekb13\\Anaconda2\\lib\\site-packages\\numpy\\lib\\function_base.pyc\u001b[0m in \u001b[0;36m_vectorize_call\u001b[1;34m(self, func, args)\u001b[0m\n\u001b[0;32m   2808\u001b[0m                       for a in args]\n\u001b[0;32m   2809\u001b[0m \u001b[1;33m\u001b[0m\u001b[0m\n\u001b[1;32m-> 2810\u001b[1;33m             \u001b[0moutputs\u001b[0m \u001b[1;33m=\u001b[0m \u001b[0mufunc\u001b[0m\u001b[1;33m(\u001b[0m\u001b[1;33m*\u001b[0m\u001b[0minputs\u001b[0m\u001b[1;33m)\u001b[0m\u001b[1;33m\u001b[0m\u001b[0m\n\u001b[0m\u001b[0;32m   2811\u001b[0m \u001b[1;33m\u001b[0m\u001b[0m\n\u001b[0;32m   2812\u001b[0m             \u001b[1;32mif\u001b[0m \u001b[0mufunc\u001b[0m\u001b[1;33m.\u001b[0m\u001b[0mnout\u001b[0m \u001b[1;33m==\u001b[0m \u001b[1;36m1\u001b[0m\u001b[1;33m:\u001b[0m\u001b[1;33m\u001b[0m\u001b[0m\n",
      "\u001b[1;32mC:\\Users\\jonekb13\\Anaconda2\\lib\\site-packages\\matplotlib\\dates.pyc\u001b[0m in \u001b[0;36m_to_ordinalf\u001b[1;34m(dt)\u001b[0m\n\u001b[0;32m    218\u001b[0m         \u001b[0mtzi\u001b[0m \u001b[1;33m=\u001b[0m \u001b[0mUTC\u001b[0m\u001b[1;33m\u001b[0m\u001b[0m\n\u001b[0;32m    219\u001b[0m \u001b[1;33m\u001b[0m\u001b[0m\n\u001b[1;32m--> 220\u001b[1;33m     \u001b[0mbase\u001b[0m \u001b[1;33m=\u001b[0m \u001b[0mfloat\u001b[0m\u001b[1;33m(\u001b[0m\u001b[0mdt\u001b[0m\u001b[1;33m.\u001b[0m\u001b[0mtoordinal\u001b[0m\u001b[1;33m(\u001b[0m\u001b[1;33m)\u001b[0m\u001b[1;33m)\u001b[0m\u001b[1;33m\u001b[0m\u001b[0m\n\u001b[0m\u001b[0;32m    221\u001b[0m \u001b[1;33m\u001b[0m\u001b[0m\n\u001b[0;32m    222\u001b[0m     \u001b[1;31m# If it's sufficiently datetime-like, it will have a `date()` method\u001b[0m\u001b[1;33m\u001b[0m\u001b[1;33m\u001b[0m\u001b[0m\n",
      "\u001b[1;31mAttributeError\u001b[0m: 'datetime.time' object has no attribute 'toordinal'"
     ]
    },
    {
     "data": {
      "image/png": "[encoded data removed]",
      "text/plain": [
       "<matplotlib.figure.Figure at 0x1372a278>"
      ]
     },
     "metadata": {},
     "output_type": "display_data"
    }
   ],
   "source": [
    "# Plotting parameters\n",
    "y_list = ['SRT','HRT']\n",
    "y1label = 'd'\n",
    "title = 'A-stage bioreactor retention times'\n",
    "graph_type = '.'\n",
    "size = (16,8)\n",
    "\n",
    "# Plot figure\n",
    "plotDframe(df, y_list, graph_type, title, size, y1label)"
   ]
  },
  {
   "cell_type": "markdown",
   "metadata": {},
   "source": [
    "## 5.2 Plotting setup for A-stage bioreactor TSS"
   ]
  },
  {
   "cell_type": "code",
   "execution_count": null,
   "metadata": {},
   "outputs": [],
   "source": [
    "# Plotting parameters\n",
    "y_list = ['TSS']\n",
    "y1label = 'mg/L'\n",
    "title = 'Total Suspended Solids'\n",
    "graph_type = '.'\n",
    "size = (16,8)\n",
    "\n",
    "# Plot figure\n",
    "plotDframe(df, y_list, graph_type, title, size, y1label)"
   ]
  },
  {
   "cell_type": "markdown",
   "metadata": {},
   "source": [
    "## 5.3.1 Parsing setup for oxygen concentrations in sections II and III"
   ]
  },
  {
   "cell_type": "code",
   "execution_count": null,
   "metadata": {},
   "outputs": [],
   "source": [
    "# Parsing parameters\n",
    "footer = 0\n",
    "columns = [0, 35, 36]\n",
    "sheetnumber = 1\n",
    "\n",
    "# Dataframe\n",
    "df = fileToDframe(filename, footer, columns, sheetnumber)\n",
    "df.head()"
   ]
  },
  {
   "cell_type": "markdown",
   "metadata": {},
   "source": [
    "## 5.3.2 Plotting setup for oxygen concentrations in sections II and III"
   ]
  },
  {
   "cell_type": "code",
   "execution_count": null,
   "metadata": {},
   "outputs": [],
   "source": [
    "# Plotting parameters\n",
    "y_list = ['O2_section_II', 'O2_section_III']\n",
    "y1label = 'mg/L'\n",
    "title = 'Oxygen concentrations, sections II and III'\n",
    "graph_type = '.'\n",
    "size = (16,8)\n",
    "\n",
    "# Plot figure\n",
    "plotDframe(df, y_list, graph_type, title, size, y1label)"
   ]
  },
  {
   "cell_type": "markdown",
   "metadata": {},
   "source": [
    "# 6: Effluent quality measurements"
   ]
  },
  {
   "cell_type": "markdown",
   "metadata": {},
   "source": [
    "## Parsing setup"
   ]
  },
  {
   "cell_type": "code",
   "execution_count": null,
   "metadata": {},
   "outputs": [],
   "source": [
    "# Parsing parameters\n",
    "footer = 0\n",
    "columns = [0, 33, 43, 47]\n",
    "sheetnumber = 1\n",
    "\n",
    "# Dataframe\n",
    "df = fileToDframe(filename, footer, columns, sheetnumber)\n",
    "df.head()"
   ]
  },
  {
   "cell_type": "markdown",
   "metadata": {},
   "source": [
    "## Plotting setup"
   ]
  },
  {
   "cell_type": "code",
   "execution_count": null,
   "metadata": {},
   "outputs": [],
   "source": [
    "# Plotting parameters\n",
    "y_list = ['COD','TSS']\n",
    "y1label = 'mg/L'\n",
    "sec_y = 'SVI'\n",
    "y2label = 'ml/g'\n",
    "title = 'Effluent quality measurements'\n",
    "graph_type = '.'\n",
    "size = (16, 8)\n",
    "style = 'plain'\n",
    "\n",
    "# Plot figure\n",
    "plotDframe(df, y_list, graph_type, title, size, y1label, style, sec_y, y2label)"
   ]
  },
  {
   "cell_type": "markdown",
   "metadata": {
    "collapsed": true
   },
   "source": [
    "# Additional parameters"
   ]
  },
  {
   "cell_type": "markdown",
   "metadata": {},
   "source": [
    "## Food/Micro-organisms ratio (F/M)"
   ]
  },
  {
   "cell_type": "markdown",
   "metadata": {},
   "source": [
    "To calculate the F/M ratio. We need to use the following formula: [(COD x Q) / (MLVSS x Aeration Volume)]"
   ]
  },
  {
   "cell_type": "markdown",
   "metadata": {},
   "source": [
    "### Parsing setup\n",
    "In order to calculate the F/M ratio, the necessary columns need to be parsed."
   ]
  },
  {
   "cell_type": "code",
   "execution_count": null,
   "metadata": {},
   "outputs": [],
   "source": [
    "# Parsing parameters\n",
    "footer = 0\n",
    "columns = [0, 5, 6, 7, 19, 20, 31, 32, 37, 118] # Date parsed for plotting after calculation. #0=Date, 5=Qeffl_recirc, 6=Qinf, 7=COD, 19= Inf+eff_TSS, 20=filtrate,\n",
    "#31=Sludge TSS, 32= Sludge VSS, 37=Sludge_recycle, 118=demon_inflow\n",
    "sheetnumber = 1\n",
    "\n",
    "# Dataframe\n",
    "df = fileToDframe(filename, footer, columns, sheetnumber)\n",
    "df.head()"
   ]
  },
  {
   "cell_type": "markdown",
   "metadata": {},
   "source": [
    "With this information, parts of the formula may be assembled. First we need to calculate Q and MLVSS."
   ]
  },
  {
   "cell_type": "code",
   "execution_count": null,
   "metadata": {},
   "outputs": [],
   "source": [
    "# Q calculation\n",
    "dfq = df['Qinf'] + df['Qeffl_recirc'] + df['filtrate'] + df['demon_inflow'] # Creating a dataframe consisting of Q\n",
    "print dfq"
   ]
  },
  {
   "cell_type": "markdown",
   "metadata": {},
   "source": [
    "### Parsing for MLVSS"
   ]
  },
  {
   "cell_type": "code",
   "execution_count": 81,
   "metadata": {
    "collapsed": true
   },
   "outputs": [],
   "source": [
    "# Parsing parameters\n",
    "footer = 0\n",
    "columns = [8]\n",
    "sheetnumber = 3\n",
    "\n",
    "# Dataframe\n",
    "dfml = fileToDframe(filename, footer, columns, sheetnumber)"
   ]
  },
  {
   "cell_type": "code",
   "execution_count": 82,
   "metadata": {},
   "outputs": [
    {
     "data": {
      "text/html": [
       "<div>\n",
       "<style>\n",
       "    .dataframe thead tr:only-child th {\n",
       "        text-align: right;\n",
       "    }\n",
       "\n",
       "    .dataframe thead th {\n",
       "        text-align: left;\n",
       "    }\n",
       "\n",
       "    .dataframe tbody tr th {\n",
       "        vertical-align: top;\n",
       "    }\n",
       "</style>\n",
       "<table border=\"1\" class=\"dataframe\">\n",
       "  <thead>\n",
       "    <tr style=\"text-align: right;\">\n",
       "      <th></th>\n",
       "      <th>2607.696</th>\n",
       "    </tr>\n",
       "  </thead>\n",
       "  <tbody>\n",
       "    <tr>\n",
       "      <th>0</th>\n",
       "      <td>2434.230</td>\n",
       "    </tr>\n",
       "    <tr>\n",
       "      <th>1</th>\n",
       "      <td>2350.064</td>\n",
       "    </tr>\n",
       "    <tr>\n",
       "      <th>2</th>\n",
       "      <td>1547.286</td>\n",
       "    </tr>\n",
       "    <tr>\n",
       "      <th>3</th>\n",
       "      <td>1493.888</td>\n",
       "    </tr>\n",
       "    <tr>\n",
       "      <th>4</th>\n",
       "      <td>2032.576</td>\n",
       "    </tr>\n",
       "  </tbody>\n",
       "</table>\n",
       "</div>"
      ],
      "text/plain": [
       "   2607.696\n",
       "0  2434.230\n",
       "1  2350.064\n",
       "2  1547.286\n",
       "3  1493.888\n",
       "4  2032.576"
      ]
     },
     "execution_count": 82,
     "metadata": {},
     "output_type": "execute_result"
    }
   ],
   "source": [
    "# MLVSS calculation\n",
    "dfml.head() # MLVSS"
   ]
  },
  {
   "cell_type": "code",
   "execution_count": 83,
   "metadata": {},
   "outputs": [],
   "source": [
    "# Aeration volume is 2434 m3\n",
    "dffm = ((df['COD']*dfq)/(dfml*2434))"
   ]
  },
  {
   "cell_type": "code",
   "execution_count": 84,
   "metadata": {},
   "outputs": [
    {
     "name": "stdout",
     "output_type": "stream",
     "text": [
      "    0.000     1.000     2.000     3.000     4.000     5.000     6.000     \\\n",
      "0        NaN       NaN       NaN       NaN       NaN       NaN       NaN   \n",
      "1        NaN       NaN       NaN       NaN       NaN       NaN       NaN   \n",
      "2        NaN       NaN       NaN       NaN       NaN       NaN       NaN   \n",
      "3        NaN       NaN       NaN       NaN       NaN       NaN       NaN   \n",
      "4        NaN       NaN       NaN       NaN       NaN       NaN       NaN   \n",
      "5        NaN       NaN       NaN       NaN       NaN       NaN       NaN   \n",
      "6        NaN       NaN       NaN       NaN       NaN       NaN       NaN   \n",
      "7        NaN       NaN       NaN       NaN       NaN       NaN       NaN   \n",
      "8        NaN       NaN       NaN       NaN       NaN       NaN       NaN   \n",
      "9        NaN       NaN       NaN       NaN       NaN       NaN       NaN   \n",
      "10       NaN       NaN       NaN       NaN       NaN       NaN       NaN   \n",
      "11       NaN       NaN       NaN       NaN       NaN       NaN       NaN   \n",
      "12       NaN       NaN       NaN       NaN       NaN       NaN       NaN   \n",
      "13       NaN       NaN       NaN       NaN       NaN       NaN       NaN   \n",
      "14       NaN       NaN       NaN       NaN       NaN       NaN       NaN   \n",
      "15       NaN       NaN       NaN       NaN       NaN       NaN       NaN   \n",
      "16       NaN       NaN       NaN       NaN       NaN       NaN       NaN   \n",
      "17       NaN       NaN       NaN       NaN       NaN       NaN       NaN   \n",
      "18       NaN       NaN       NaN       NaN       NaN       NaN       NaN   \n",
      "19       NaN       NaN       NaN       NaN       NaN       NaN       NaN   \n",
      "20       NaN       NaN       NaN       NaN       NaN       NaN       NaN   \n",
      "21       NaN       NaN       NaN       NaN       NaN       NaN       NaN   \n",
      "22       NaN       NaN       NaN       NaN       NaN       NaN       NaN   \n",
      "23       NaN       NaN       NaN       NaN       NaN       NaN       NaN   \n",
      "24       NaN       NaN       NaN       NaN       NaN       NaN       NaN   \n",
      "25       NaN       NaN       NaN       NaN       NaN       NaN       NaN   \n",
      "26       NaN       NaN       NaN       NaN       NaN       NaN       NaN   \n",
      "27       NaN       NaN       NaN       NaN       NaN       NaN       NaN   \n",
      "28       NaN       NaN       NaN       NaN       NaN       NaN       NaN   \n",
      "29       NaN       NaN       NaN       NaN       NaN       NaN       NaN   \n",
      "30       NaN       NaN       NaN       NaN       NaN       NaN       NaN   \n",
      "31       NaN       NaN       NaN       NaN       NaN       NaN       NaN   \n",
      "32       NaN       NaN       NaN       NaN       NaN       NaN       NaN   \n",
      "33       NaN       NaN       NaN       NaN       NaN       NaN       NaN   \n",
      "34       NaN       NaN       NaN       NaN       NaN       NaN       NaN   \n",
      "35       NaN       NaN       NaN       NaN       NaN       NaN       NaN   \n",
      "36       NaN       NaN       NaN       NaN       NaN       NaN       NaN   \n",
      "37       NaN       NaN       NaN       NaN       NaN       NaN       NaN   \n",
      "38       NaN       NaN       NaN       NaN       NaN       NaN       NaN   \n",
      "39       NaN       NaN       NaN       NaN       NaN       NaN       NaN   \n",
      "40       NaN       NaN       NaN       NaN       NaN       NaN       NaN   \n",
      "41       NaN       NaN       NaN       NaN       NaN       NaN       NaN   \n",
      "42       NaN       NaN       NaN       NaN       NaN       NaN       NaN   \n",
      "43       NaN       NaN       NaN       NaN       NaN       NaN       NaN   \n",
      "44       NaN       NaN       NaN       NaN       NaN       NaN       NaN   \n",
      "45       NaN       NaN       NaN       NaN       NaN       NaN       NaN   \n",
      "46       NaN       NaN       NaN       NaN       NaN       NaN       NaN   \n",
      "47       NaN       NaN       NaN       NaN       NaN       NaN       NaN   \n",
      "48       NaN       NaN       NaN       NaN       NaN       NaN       NaN   \n",
      "49       NaN       NaN       NaN       NaN       NaN       NaN       NaN   \n",
      "50       NaN       NaN       NaN       NaN       NaN       NaN       NaN   \n",
      "51       NaN       NaN       NaN       NaN       NaN       NaN       NaN   \n",
      "52       NaN       NaN       NaN       NaN       NaN       NaN       NaN   \n",
      "53       NaN       NaN       NaN       NaN       NaN       NaN       NaN   \n",
      "54       NaN       NaN       NaN       NaN       NaN       NaN       NaN   \n",
      "55       NaN       NaN       NaN       NaN       NaN       NaN       NaN   \n",
      "56       NaN       NaN       NaN       NaN       NaN       NaN       NaN   \n",
      "\n",
      "    7.000     8.000     9.000       ...     295.000   296.000   297.000   \\\n",
      "0        NaN       NaN       NaN    ...          NaN       NaN       NaN   \n",
      "1        NaN       NaN       NaN    ...          NaN       NaN       NaN   \n",
      "2        NaN       NaN       NaN    ...          NaN       NaN       NaN   \n",
      "3        NaN       NaN       NaN    ...          NaN       NaN       NaN   \n",
      "4        NaN       NaN       NaN    ...          NaN       NaN       NaN   \n",
      "5        NaN       NaN       NaN    ...          NaN       NaN       NaN   \n",
      "6        NaN       NaN       NaN    ...          NaN       NaN       NaN   \n",
      "7        NaN       NaN       NaN    ...          NaN       NaN       NaN   \n",
      "8        NaN       NaN       NaN    ...          NaN       NaN       NaN   \n",
      "9        NaN       NaN       NaN    ...          NaN       NaN       NaN   \n",
      "10       NaN       NaN       NaN    ...          NaN       NaN       NaN   \n",
      "11       NaN       NaN       NaN    ...          NaN       NaN       NaN   \n",
      "12       NaN       NaN       NaN    ...          NaN       NaN       NaN   \n",
      "13       NaN       NaN       NaN    ...          NaN       NaN       NaN   \n",
      "14       NaN       NaN       NaN    ...          NaN       NaN       NaN   \n",
      "15       NaN       NaN       NaN    ...          NaN       NaN       NaN   \n",
      "16       NaN       NaN       NaN    ...          NaN       NaN       NaN   \n",
      "17       NaN       NaN       NaN    ...          NaN       NaN       NaN   \n",
      "18       NaN       NaN       NaN    ...          NaN       NaN       NaN   \n",
      "19       NaN       NaN       NaN    ...          NaN       NaN       NaN   \n",
      "20       NaN       NaN       NaN    ...          NaN       NaN       NaN   \n",
      "21       NaN       NaN       NaN    ...          NaN       NaN       NaN   \n",
      "22       NaN       NaN       NaN    ...          NaN       NaN       NaN   \n",
      "23       NaN       NaN       NaN    ...          NaN       NaN       NaN   \n",
      "24       NaN       NaN       NaN    ...          NaN       NaN       NaN   \n",
      "25       NaN       NaN       NaN    ...          NaN       NaN       NaN   \n",
      "26       NaN       NaN       NaN    ...          NaN       NaN       NaN   \n",
      "27       NaN       NaN       NaN    ...          NaN       NaN       NaN   \n",
      "28       NaN       NaN       NaN    ...          NaN       NaN       NaN   \n",
      "29       NaN       NaN       NaN    ...          NaN       NaN       NaN   \n",
      "30       NaN       NaN       NaN    ...          NaN       NaN       NaN   \n",
      "31       NaN       NaN       NaN    ...          NaN       NaN       NaN   \n",
      "32       NaN       NaN       NaN    ...          NaN       NaN       NaN   \n",
      "33       NaN       NaN       NaN    ...          NaN       NaN       NaN   \n",
      "34       NaN       NaN       NaN    ...          NaN       NaN       NaN   \n",
      "35       NaN       NaN       NaN    ...          NaN       NaN       NaN   \n",
      "36       NaN       NaN       NaN    ...          NaN       NaN       NaN   \n",
      "37       NaN       NaN       NaN    ...          NaN       NaN       NaN   \n",
      "38       NaN       NaN       NaN    ...          NaN       NaN       NaN   \n",
      "39       NaN       NaN       NaN    ...          NaN       NaN       NaN   \n",
      "40       NaN       NaN       NaN    ...          NaN       NaN       NaN   \n",
      "41       NaN       NaN       NaN    ...          NaN       NaN       NaN   \n",
      "42       NaN       NaN       NaN    ...          NaN       NaN       NaN   \n",
      "43       NaN       NaN       NaN    ...          NaN       NaN       NaN   \n",
      "44       NaN       NaN       NaN    ...          NaN       NaN       NaN   \n",
      "45       NaN       NaN       NaN    ...          NaN       NaN       NaN   \n",
      "46       NaN       NaN       NaN    ...          NaN       NaN       NaN   \n",
      "47       NaN       NaN       NaN    ...          NaN       NaN       NaN   \n",
      "48       NaN       NaN       NaN    ...          NaN       NaN       NaN   \n",
      "49       NaN       NaN       NaN    ...          NaN       NaN       NaN   \n",
      "50       NaN       NaN       NaN    ...          NaN       NaN       NaN   \n",
      "51       NaN       NaN       NaN    ...          NaN       NaN       NaN   \n",
      "52       NaN       NaN       NaN    ...          NaN       NaN       NaN   \n",
      "53       NaN       NaN       NaN    ...          NaN       NaN       NaN   \n",
      "54       NaN       NaN       NaN    ...          NaN       NaN       NaN   \n",
      "55       NaN       NaN       NaN    ...          NaN       NaN       NaN   \n",
      "56       NaN       NaN       NaN    ...          NaN       NaN       NaN   \n",
      "\n",
      "    298.000   299.000   300.000   301.000   302.000   303.000   2607.696  \n",
      "0        NaN       NaN       NaN       NaN       NaN       NaN       NaN  \n",
      "1        NaN       NaN       NaN       NaN       NaN       NaN       NaN  \n",
      "2        NaN       NaN       NaN       NaN       NaN       NaN       NaN  \n",
      "3        NaN       NaN       NaN       NaN       NaN       NaN       NaN  \n",
      "4        NaN       NaN       NaN       NaN       NaN       NaN       NaN  \n",
      "5        NaN       NaN       NaN       NaN       NaN       NaN       NaN  \n",
      "6        NaN       NaN       NaN       NaN       NaN       NaN       NaN  \n",
      "7        NaN       NaN       NaN       NaN       NaN       NaN       NaN  \n",
      "8        NaN       NaN       NaN       NaN       NaN       NaN       NaN  \n",
      "9        NaN       NaN       NaN       NaN       NaN       NaN       NaN  \n",
      "10       NaN       NaN       NaN       NaN       NaN       NaN       NaN  \n",
      "11       NaN       NaN       NaN       NaN       NaN       NaN       NaN  \n",
      "12       NaN       NaN       NaN       NaN       NaN       NaN       NaN  \n",
      "13       NaN       NaN       NaN       NaN       NaN       NaN       NaN  \n",
      "14       NaN       NaN       NaN       NaN       NaN       NaN       NaN  \n",
      "15       NaN       NaN       NaN       NaN       NaN       NaN       NaN  \n",
      "16       NaN       NaN       NaN       NaN       NaN       NaN       NaN  \n",
      "17       NaN       NaN       NaN       NaN       NaN       NaN       NaN  \n",
      "18       NaN       NaN       NaN       NaN       NaN       NaN       NaN  \n",
      "19       NaN       NaN       NaN       NaN       NaN       NaN       NaN  \n",
      "20       NaN       NaN       NaN       NaN       NaN       NaN       NaN  \n",
      "21       NaN       NaN       NaN       NaN       NaN       NaN       NaN  \n",
      "22       NaN       NaN       NaN       NaN       NaN       NaN       NaN  \n",
      "23       NaN       NaN       NaN       NaN       NaN       NaN       NaN  \n",
      "24       NaN       NaN       NaN       NaN       NaN       NaN       NaN  \n",
      "25       NaN       NaN       NaN       NaN       NaN       NaN       NaN  \n",
      "26       NaN       NaN       NaN       NaN       NaN       NaN       NaN  \n",
      "27       NaN       NaN       NaN       NaN       NaN       NaN       NaN  \n",
      "28       NaN       NaN       NaN       NaN       NaN       NaN       NaN  \n",
      "29       NaN       NaN       NaN       NaN       NaN       NaN       NaN  \n",
      "30       NaN       NaN       NaN       NaN       NaN       NaN       NaN  \n",
      "31       NaN       NaN       NaN       NaN       NaN       NaN       NaN  \n",
      "32       NaN       NaN       NaN       NaN       NaN       NaN       NaN  \n",
      "33       NaN       NaN       NaN       NaN       NaN       NaN       NaN  \n",
      "34       NaN       NaN       NaN       NaN       NaN       NaN       NaN  \n",
      "35       NaN       NaN       NaN       NaN       NaN       NaN       NaN  \n",
      "36       NaN       NaN       NaN       NaN       NaN       NaN       NaN  \n",
      "37       NaN       NaN       NaN       NaN       NaN       NaN       NaN  \n",
      "38       NaN       NaN       NaN       NaN       NaN       NaN       NaN  \n",
      "39       NaN       NaN       NaN       NaN       NaN       NaN       NaN  \n",
      "40       NaN       NaN       NaN       NaN       NaN       NaN       NaN  \n",
      "41       NaN       NaN       NaN       NaN       NaN       NaN       NaN  \n",
      "42       NaN       NaN       NaN       NaN       NaN       NaN       NaN  \n",
      "43       NaN       NaN       NaN       NaN       NaN       NaN       NaN  \n",
      "44       NaN       NaN       NaN       NaN       NaN       NaN       NaN  \n",
      "45       NaN       NaN       NaN       NaN       NaN       NaN       NaN  \n",
      "46       NaN       NaN       NaN       NaN       NaN       NaN       NaN  \n",
      "47       NaN       NaN       NaN       NaN       NaN       NaN       NaN  \n",
      "48       NaN       NaN       NaN       NaN       NaN       NaN       NaN  \n",
      "49       NaN       NaN       NaN       NaN       NaN       NaN       NaN  \n",
      "50       NaN       NaN       NaN       NaN       NaN       NaN       NaN  \n",
      "51       NaN       NaN       NaN       NaN       NaN       NaN       NaN  \n",
      "52       NaN       NaN       NaN       NaN       NaN       NaN       NaN  \n",
      "53       NaN       NaN       NaN       NaN       NaN       NaN       NaN  \n",
      "54       NaN       NaN       NaN       NaN       NaN       NaN       NaN  \n",
      "55       NaN       NaN       NaN       NaN       NaN       NaN       NaN  \n",
      "56       NaN       NaN       NaN       NaN       NaN       NaN       NaN  \n",
      "\n",
      "[57 rows x 305 columns]\n"
     ]
    }
   ],
   "source": [
    "print dffm"
   ]
  },
  {
   "cell_type": "code",
   "execution_count": null,
   "metadata": {
    "collapsed": true
   },
   "outputs": [],
   "source": []
  },
  {
   "cell_type": "code",
   "execution_count": null,
   "metadata": {
    "collapsed": true
   },
   "outputs": [],
   "source": []
  }
 ],
 "metadata": {
  "kernelspec": {
   "display_name": "Python 2",
   "language": "python",
   "name": "python2"
  },
  "language_info": {
   "codemirror_mode": {
    "name": "ipython",
    "version": 2
   },
   "file_extension": ".py",
   "mimetype": "text/x-python",
   "name": "python",
   "nbconvert_exporter": "python",
   "pygments_lexer": "ipython2",
   "version": "2.7.13"
  }
 },
 "nbformat": 4,
 "nbformat_minor": 1
}
